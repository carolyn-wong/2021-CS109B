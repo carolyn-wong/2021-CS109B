{
 "cells": [
  {
   "cell_type": "markdown",
   "metadata": {
    "deletable": false,
    "editable": false
   },
   "source": [
    "# <img style=\"float: left; padding-right: 10px; width: 45px\" src=\"https://raw.githubusercontent.com/Harvard-IACS/2018-CS109A/master/content/styles/iacs.png\"> CS109B Data Science 2: Advanced Topics in Data Science \n",
    "## Homework 1 - Smoothers and Generalized Additive Models\n",
    "\n",
    "\n",
    "\n",
    "**Harvard University**<br/>\n",
    "**Spring 2021**<br/>\n",
    "**Instructors**: Mark Glickman, Pavlos Protopapas, and Chris Tanner \n",
    "\n",
    "\n",
    "<hr style=\"height:2pt\">"
   ]
  },
  {
   "cell_type": "code",
   "execution_count": 1,
   "metadata": {
    "deletable": false,
    "editable": false
   },
   "outputs": [
    {
     "data": {
      "text/html": [
       "<style>\n",
       "blockquote { background: #AEDE94; }\n",
       "h1 { \n",
       "    padding-top: 25px;\n",
       "    padding-bottom: 25px;\n",
       "    text-align: left; \n",
       "    padding-left: 10px;\n",
       "    background-color: #DDDDDD; \n",
       "    color: black;\n",
       "}\n",
       "h2 { \n",
       "    padding-top: 10px;\n",
       "    padding-bottom: 10px;\n",
       "    text-align: left; \n",
       "    padding-left: 5px;\n",
       "    background-color: #EEEEEE; \n",
       "    color: black;\n",
       "}\n",
       "\n",
       "div.exercise {\n",
       "\tbackground-color: #ffcccc;\n",
       "\tborder-color: #E9967A; \t\n",
       "\tborder-left: 5px solid #800080; \n",
       "\tpadding: 0.5em;\n",
       "}\n",
       "\n",
       "div.exercise-r {\n",
       "\tbackground-color: #fce8e8;\n",
       "\tborder-color: #E9967A; \t\n",
       "\tborder-left: 5px solid #800080; \n",
       "\tpadding: 0.5em;\n",
       "}\n",
       "\n",
       "\n",
       "span.sub-q {\n",
       "\tfont-weight: bold;\n",
       "}\n",
       "div.theme {\n",
       "\tbackground-color: #DDDDDD;\n",
       "\tborder-color: #E9967A; \t\n",
       "\tborder-left: 5px solid #800080; \n",
       "\tpadding: 0.5em;\n",
       "\tfont-size: 18pt;\n",
       "}\n",
       "div.gc { \n",
       "\tbackground-color: #AEDE94;\n",
       "\tborder-color: #E9967A; \t \n",
       "\tborder-left: 5px solid #800080; \n",
       "\tpadding: 0.5em;\n",
       "\tfont-size: 12pt;\n",
       "}\n",
       "p.q1 { \n",
       "    padding-top: 5px;\n",
       "    padding-bottom: 5px;\n",
       "    text-align: left; \n",
       "    padding-left: 5px;\n",
       "    background-color: #EEEEEE; \n",
       "    color: black;\n",
       "}\n",
       "header {\n",
       "   padding-top: 35px;\n",
       "    padding-bottom: 35px;\n",
       "    text-align: left; \n",
       "    padding-left: 10px;\n",
       "    background-color: #DDDDDD; \n",
       "    color: black;\n",
       "}\n",
       "</style>\n",
       "\n"
      ],
      "text/plain": [
       "<IPython.core.display.HTML object>"
      ]
     },
     "execution_count": 1,
     "metadata": {},
     "output_type": "execute_result"
    }
   ],
   "source": [
    "#PLEASE RUN THIS CELL \n",
    "import requests\n",
    "from IPython.core.display import HTML\n",
    "styles = requests.get(\"https://raw.githubusercontent.com/Harvard-IACS/2018-CS109A/master/content/styles/cs109.css\").text\n",
    "HTML(styles)"
   ]
  },
  {
   "cell_type": "markdown",
   "metadata": {
    "deletable": false,
    "editable": false
   },
   "source": [
    "### INSTRUCTIONS\n",
    "\n",
    "- To submit your assignment, please follow the instructions on Canvas.\n",
    "- Please restart the kernel and run the entire notebook again before you submit.\n",
    "\n",
    "<hr style=\"height:2pt\">"
   ]
  },
  {
   "cell_type": "markdown",
   "metadata": {
    "deletable": false,
    "editable": false
   },
   "source": [
    "### Please use the libraries below:"
   ]
  },
  {
   "cell_type": "code",
   "execution_count": 2,
   "metadata": {
    "deletable": false,
    "editable": false
   },
   "outputs": [],
   "source": [
    "import pandas as pd\n",
    "import numpy as np\n",
    "import datetime\n",
    "import matplotlib.pyplot as plt\n",
    "%matplotlib inline\n",
    "import statsmodels.formula.api as sm\n",
    "from sklearn.preprocessing import PolynomialFeatures\n",
    "from sklearn.metrics import r2_score\n",
    "from sklearn.model_selection import KFold\n",
    "from pygam import LinearGAM, s, f\n",
    "from sklearn.preprocessing import LabelEncoder\n",
    "\n",
    "# Seaborn visualization library\n",
    "import seaborn as sns"
   ]
  },
  {
   "cell_type": "markdown",
   "metadata": {
    "deletable": false,
    "editable": false
   },
   "source": [
    "\n",
    "<hr style=\"height:2pt\">"
   ]
  },
  {
   "cell_type": "markdown",
   "metadata": {
    "deletable": false,
    "editable": false
   },
   "source": [
    "<div class='exercise'><b> Question 1 [50 pts]: Modeling seasonality of Airbnb prices </b></div>\n",
    "\n",
    "In this problem, the task is to build a regression model to predict the price of an Airbnb rental for a given date. The data are provided in `calendar_train.csv` and `calendar_test.csv`, which contain availability and price data for a sample of Airbnb units in the Boston area from 2017 to 2018, about 4 observations per day in each set.\n",
    "\n",
    "**1.1** Start by loading the data using pandas.  \n",
    "*Hint*: You likely want to have pandas parse the `date` column as a datetime object via the `parse_dates` argument of `pd.read_csv`\n",
    "\n",
    "\n",
    "**1.2** Visualize the average price by month and day of the week (i.e., Monday, Tuesday, etc.) for the training set. Point out any trends you notice and explain whether or not they make sense.\n",
    "\n",
    "\n",
    "**1.3** Explore different regression models. Fit a regression model that uses the date as a predictor and predicts the price of an Airbnb rental on that date. In this section, you should ignore all other predictors besides the date. Fit the following models on the training set, and compare the $R^2$ of the fitted models on the test set. Include plots of the fitted models for each method. Make sure to fit your model on *all training set observations*. Do not average or otherwise combine the data before fitting.\n",
    "\n",
    "\n",
    "*Important*: Convert the `date` column into a numerical variable by taking the difference in days between each date and the earliest date in the column.\n",
    "\n",
    "* **1.3.1** Fit simple polynomial models of degree 2, 3, 5, and 8 via the `statsmodels` library to the training data. Provide train and test R^2 scores and provide plot(s) of a) the daily averages and b) each model's predictions.\n",
    "\n",
    "* **1.3.2** You should see that the degree 8 polynomial's predictions are awful- either nonsensically near zero [or far too large] at many input values. This isn't just simple overfitting. What is going wrong in this model, and how might it be addressed?\n",
    "\n",
    "* **1.3.3** Fit a penalized B-spline using `pygam` with the smoothness parameter chosen by cross-validation on the training set.  Again, provide the train and test scores of the best-performing model and plot its predictions.\n",
    "\n",
    "* **1.3.4** Of the models, which performs the best? What is the effect of the tuning parameters (degree and smoothness penalty)?\n",
    "\n",
    "\n",
    "**1.4** It is possible/likely that prices on weekends (Friday nights and Saturday nights) are systematically higher than prices on weekdays, and that including this aspect of the data-generating process in our model will produce a better fit. Create a binary indicator of weekend versus non-weekend, and include it in your additive model based on `pygam`.  How does it impact the model's performance?  \n",
    "\n",
    "*Hint*: include a categorical variable in a GAM by importing and using `pygam.f` in the same way you've used `pygam.s` for continuous variables.\n",
    "\n",
    "\n",
    "**1.5** You may have noticed from your scatterplots of average price versus day on the training set that there are a few days with abnormally high average prices. Sort the training data in decreasing order of average price, extracting the 10 most expensive dates. Why are the prices on these days so high? Is it something about the days themselves, noise, an artifact of data collection, or something else?\n"
   ]
  },
  {
   "cell_type": "markdown",
   "metadata": {
    "autograde": "1.1",
    "deletable": false,
    "editable": false
   },
   "source": [
    "**1.1** Start by loading the data using pandas.\n",
    "*Hint*: You likely want to have pandas parse the `date` column as a datetime object via the `parse_dates` argument of `pd.read_csv`\n",
    "\n"
   ]
  },
  {
   "cell_type": "code",
   "execution_count": 14,
   "metadata": {
    "deletable": false
   },
   "outputs": [
    {
     "data": {
      "text/html": [
       "<div>\n",
       "<style scoped>\n",
       "    .dataframe tbody tr th:only-of-type {\n",
       "        vertical-align: middle;\n",
       "    }\n",
       "\n",
       "    .dataframe tbody tr th {\n",
       "        vertical-align: top;\n",
       "    }\n",
       "\n",
       "    .dataframe thead th {\n",
       "        text-align: right;\n",
       "    }\n",
       "</style>\n",
       "<table border=\"1\" class=\"dataframe\">\n",
       "  <thead>\n",
       "    <tr style=\"text-align: right;\">\n",
       "      <th></th>\n",
       "      <th>listing_id</th>\n",
       "      <th>date</th>\n",
       "      <th>available</th>\n",
       "      <th>price</th>\n",
       "    </tr>\n",
       "  </thead>\n",
       "  <tbody>\n",
       "    <tr>\n",
       "      <th>0</th>\n",
       "      <td>20872145</td>\n",
       "      <td>2018-09-21</td>\n",
       "      <td>f</td>\n",
       "      <td>NaN</td>\n",
       "    </tr>\n",
       "    <tr>\n",
       "      <th>1</th>\n",
       "      <td>20872145</td>\n",
       "      <td>2018-09-19</td>\n",
       "      <td>f</td>\n",
       "      <td>NaN</td>\n",
       "    </tr>\n",
       "    <tr>\n",
       "      <th>2</th>\n",
       "      <td>20872145</td>\n",
       "      <td>2018-09-18</td>\n",
       "      <td>f</td>\n",
       "      <td>NaN</td>\n",
       "    </tr>\n",
       "    <tr>\n",
       "      <th>3</th>\n",
       "      <td>20872145</td>\n",
       "      <td>2018-09-17</td>\n",
       "      <td>f</td>\n",
       "      <td>NaN</td>\n",
       "    </tr>\n",
       "    <tr>\n",
       "      <th>4</th>\n",
       "      <td>20872145</td>\n",
       "      <td>2018-09-16</td>\n",
       "      <td>f</td>\n",
       "      <td>NaN</td>\n",
       "    </tr>\n",
       "    <tr>\n",
       "      <th>...</th>\n",
       "      <td>...</td>\n",
       "      <td>...</td>\n",
       "      <td>...</td>\n",
       "      <td>...</td>\n",
       "    </tr>\n",
       "    <tr>\n",
       "      <th>733998</th>\n",
       "      <td>4759640</td>\n",
       "      <td>2017-12-21</td>\n",
       "      <td>f</td>\n",
       "      <td>NaN</td>\n",
       "    </tr>\n",
       "    <tr>\n",
       "      <th>733999</th>\n",
       "      <td>4759640</td>\n",
       "      <td>2017-12-20</td>\n",
       "      <td>f</td>\n",
       "      <td>NaN</td>\n",
       "    </tr>\n",
       "    <tr>\n",
       "      <th>734000</th>\n",
       "      <td>4759640</td>\n",
       "      <td>2017-12-19</td>\n",
       "      <td>f</td>\n",
       "      <td>NaN</td>\n",
       "    </tr>\n",
       "    <tr>\n",
       "      <th>734001</th>\n",
       "      <td>4759640</td>\n",
       "      <td>2017-12-18</td>\n",
       "      <td>f</td>\n",
       "      <td>NaN</td>\n",
       "    </tr>\n",
       "    <tr>\n",
       "      <th>734002</th>\n",
       "      <td>4759640</td>\n",
       "      <td>2017-12-15</td>\n",
       "      <td>f</td>\n",
       "      <td>NaN</td>\n",
       "    </tr>\n",
       "  </tbody>\n",
       "</table>\n",
       "<p>734003 rows × 4 columns</p>\n",
       "</div>"
      ],
      "text/plain": [
       "        listing_id       date available  price\n",
       "0         20872145 2018-09-21         f    NaN\n",
       "1         20872145 2018-09-19         f    NaN\n",
       "2         20872145 2018-09-18         f    NaN\n",
       "3         20872145 2018-09-17         f    NaN\n",
       "4         20872145 2018-09-16         f    NaN\n",
       "...            ...        ...       ...    ...\n",
       "733998     4759640 2017-12-21         f    NaN\n",
       "733999     4759640 2017-12-20         f    NaN\n",
       "734000     4759640 2017-12-19         f    NaN\n",
       "734001     4759640 2017-12-18         f    NaN\n",
       "734002     4759640 2017-12-15         f    NaN\n",
       "\n",
       "[734003 rows x 4 columns]"
      ]
     },
     "execution_count": 14,
     "metadata": {},
     "output_type": "execute_result"
    }
   ],
   "source": [
    "# your code here\n",
    "cal_train = pd.read_csv(\"data/calendar_train.csv\", parse_dates=['date'])\n",
    "cal_test = pd.read_csv(\"data/calendar_test.csv\", parse_dates=['date'])\n",
    "cal_train"
   ]
  },
  {
   "cell_type": "markdown",
   "metadata": {
    "autograde": "1.2",
    "deletable": false,
    "editable": false
   },
   "source": [
    "**1.2** Visualize the average price by month and day of the week (i.e., Monday, Tuesday, etc.) for the training set. Point out any trends you notice and explain whether or not they make sense.\n",
    "\n"
   ]
  },
  {
   "cell_type": "code",
   "execution_count": 48,
   "metadata": {
    "deletable": false
   },
   "outputs": [],
   "source": [
    "# your code here\n",
    "# Add month/day of week columns\n",
    "cal_train['month']=pd.to_datetime(cal_train['date']).dt.month\n",
    "cal_train['weekday']=pd.to_datetime(cal_train['date']).dt.dayofweek"
   ]
  },
  {
   "cell_type": "code",
   "execution_count": 49,
   "metadata": {},
   "outputs": [
    {
     "data": {
      "text/plain": [
       "<AxesSubplot:xlabel='month'>"
      ]
     },
     "execution_count": 49,
     "metadata": {},
     "output_type": "execute_result"
    },
    {
     "data": {
      "image/png": "[encoded data removed]",
      "text/plain": [
       "<Figure size 432x288 with 1 Axes>"
      ]
     },
     "metadata": {
      "needs_background": "light"
     },
     "output_type": "display_data"
    }
   ],
   "source": [
    "cal_train.groupby('month').price.mean().plot.bar()"
   ]
  },
  {
   "cell_type": "code",
   "execution_count": 50,
   "metadata": {
    "scrolled": true
   },
   "outputs": [
    {
     "data": {
      "text/plain": [
       "<AxesSubplot:xlabel='weekday'>"
      ]
     },
     "execution_count": 50,
     "metadata": {},
     "output_type": "execute_result"
    },
    {
     "data": {
      "image/png": "[encoded data removed]",
      "text/plain": [
       "<Figure size 432x288 with 1 Axes>"
      ]
     },
     "metadata": {
      "needs_background": "light"
     },
     "output_type": "display_data"
    }
   ],
   "source": [
    "cal_train.groupby('weekday').price.mean().plot.bar()"
   ]
  },
  {
   "cell_type": "markdown",
   "metadata": {
    "deletable": false
   },
   "source": [
    "*When plotting by month, the average price decreases in the late autumn/winter months, and increases in the summer. When plotting by day of the week, the average price increases on Friday and Saturday, and is lower on the other days of the week. These trends make sense since we would expect the best weather in Boston to be in the spring, summer, and fall and lead to more tourists, causing a price rise. Similarly, on the weekends we would expect more people to be coming into Boston for vacation, with a corresponding price rise.*"
   ]
  },
  {
   "cell_type": "markdown",
   "metadata": {
    "autograde": "1.3",
    "deletable": false,
    "editable": false
   },
   "source": [
    "**1.3** Explore different regression models. Fit a regression model that uses the date as a predictor and predicts the price of an Airbnb rental on that date. In this section, you should ignore all other predictors besides the date. Fit the following models on the training set, and compare the $R^2$ of the fitted models on the test set. Include plots of the fitted models for each method. Make sure to fit your model on *all training set observations*. Do not average or otherwise combine the data before fitting.\n",
    "\n",
    "\n",
    "*Important*: Convert the `date` column into a numerical variable by taking the difference in days between each date and the earliest date in the column.\n",
    "\n",
    "**1.3.1** Fit simple polynomial models of degree 2, 3, 5, and 8 via the `statsmodels` library to the training data. Provide train and test R^2 scores and provide plot(s) of a) the daily averages and b) each model's predictions.\n",
    "\n"
   ]
  },
  {
   "cell_type": "code",
   "execution_count": 60,
   "metadata": {},
   "outputs": [
    {
     "data": {
      "text/html": [
       "<div>\n",
       "<style scoped>\n",
       "    .dataframe tbody tr th:only-of-type {\n",
       "        vertical-align: middle;\n",
       "    }\n",
       "\n",
       "    .dataframe tbody tr th {\n",
       "        vertical-align: top;\n",
       "    }\n",
       "\n",
       "    .dataframe thead th {\n",
       "        text-align: right;\n",
       "    }\n",
       "</style>\n",
       "<table border=\"1\" class=\"dataframe\">\n",
       "  <thead>\n",
       "    <tr style=\"text-align: right;\">\n",
       "      <th></th>\n",
       "      <th>listing_id</th>\n",
       "      <th>date</th>\n",
       "      <th>available</th>\n",
       "      <th>price</th>\n",
       "      <th>date_num</th>\n",
       "    </tr>\n",
       "  </thead>\n",
       "  <tbody>\n",
       "    <tr>\n",
       "      <th>0</th>\n",
       "      <td>21205442</td>\n",
       "      <td>2018-09-28</td>\n",
       "      <td>t</td>\n",
       "      <td>138.0</td>\n",
       "      <td>357</td>\n",
       "    </tr>\n",
       "    <tr>\n",
       "      <th>1</th>\n",
       "      <td>5166870</td>\n",
       "      <td>2018-08-11</td>\n",
       "      <td>t</td>\n",
       "      <td>210.0</td>\n",
       "      <td>309</td>\n",
       "    </tr>\n",
       "    <tr>\n",
       "      <th>2</th>\n",
       "      <td>9698823</td>\n",
       "      <td>2017-10-17</td>\n",
       "      <td>f</td>\n",
       "      <td>NaN</td>\n",
       "      <td>11</td>\n",
       "    </tr>\n",
       "    <tr>\n",
       "      <th>3</th>\n",
       "      <td>18894466</td>\n",
       "      <td>2018-02-21</td>\n",
       "      <td>f</td>\n",
       "      <td>NaN</td>\n",
       "      <td>138</td>\n",
       "    </tr>\n",
       "    <tr>\n",
       "      <th>4</th>\n",
       "      <td>6765855</td>\n",
       "      <td>2018-09-22</td>\n",
       "      <td>f</td>\n",
       "      <td>NaN</td>\n",
       "      <td>351</td>\n",
       "    </tr>\n",
       "    <tr>\n",
       "      <th>...</th>\n",
       "      <td>...</td>\n",
       "      <td>...</td>\n",
       "      <td>...</td>\n",
       "      <td>...</td>\n",
       "      <td>...</td>\n",
       "    </tr>\n",
       "    <tr>\n",
       "      <th>314567</th>\n",
       "      <td>2843445</td>\n",
       "      <td>2018-05-11</td>\n",
       "      <td>t</td>\n",
       "      <td>85.0</td>\n",
       "      <td>217</td>\n",
       "    </tr>\n",
       "    <tr>\n",
       "      <th>314568</th>\n",
       "      <td>17591837</td>\n",
       "      <td>2017-12-10</td>\n",
       "      <td>t</td>\n",
       "      <td>199.0</td>\n",
       "      <td>65</td>\n",
       "    </tr>\n",
       "    <tr>\n",
       "      <th>314569</th>\n",
       "      <td>19177794</td>\n",
       "      <td>2018-06-17</td>\n",
       "      <td>f</td>\n",
       "      <td>NaN</td>\n",
       "      <td>254</td>\n",
       "    </tr>\n",
       "    <tr>\n",
       "      <th>314570</th>\n",
       "      <td>5075267</td>\n",
       "      <td>2017-12-30</td>\n",
       "      <td>t</td>\n",
       "      <td>188.0</td>\n",
       "      <td>85</td>\n",
       "    </tr>\n",
       "    <tr>\n",
       "      <th>314571</th>\n",
       "      <td>12023024</td>\n",
       "      <td>2017-10-30</td>\n",
       "      <td>t</td>\n",
       "      <td>40.0</td>\n",
       "      <td>24</td>\n",
       "    </tr>\n",
       "  </tbody>\n",
       "</table>\n",
       "<p>314572 rows × 5 columns</p>\n",
       "</div>"
      ],
      "text/plain": [
       "        listing_id       date available  price  date_num\n",
       "0         21205442 2018-09-28         t  138.0       357\n",
       "1          5166870 2018-08-11         t  210.0       309\n",
       "2          9698823 2017-10-17         f    NaN        11\n",
       "3         18894466 2018-02-21         f    NaN       138\n",
       "4          6765855 2018-09-22         f    NaN       351\n",
       "...            ...        ...       ...    ...       ...\n",
       "314567     2843445 2018-05-11         t   85.0       217\n",
       "314568    17591837 2017-12-10         t  199.0        65\n",
       "314569    19177794 2018-06-17         f    NaN       254\n",
       "314570     5075267 2017-12-30         t  188.0        85\n",
       "314571    12023024 2017-10-30         t   40.0        24\n",
       "\n",
       "[314572 rows x 5 columns]"
      ]
     },
     "execution_count": 60,
     "metadata": {},
     "output_type": "execute_result"
    }
   ],
   "source": [
    "# Convert date into numerical variable for train and test\n",
    "min_date_train = cal_train['date'].min()\n",
    "cal_train['date_num'] = (cal_train['date'] - min_date_train).dt.days\n",
    "\n",
    "min_date_test = cal_test['date'].min()\n",
    "cal_test['date_num'] = (cal_test['date'] - min_date_test).dt.days"
   ]
  },
  {
   "cell_type": "code",
   "execution_count": 93,
   "metadata": {},
   "outputs": [
    {
     "data": {
      "text/plain": [
       "<AxesSubplot:xlabel='date_num', ylabel='date_mean'>"
      ]
     },
     "execution_count": 93,
     "metadata": {},
     "output_type": "execute_result"
    },
    {
     "data": {
      "image/png": "[encoded data removed]",
      "text/plain": [
       "<Figure size 432x288 with 1 Axes>"
      ]
     },
     "metadata": {
      "needs_background": "light"
     },
     "output_type": "display_data"
    }
   ],
   "source": [
    "cal_train[\"date_mean\"] = cal_train.groupby(\"date_num\").price.mean()\n",
    "cal_train.plot.scatter(x=\"date_num\", y = \"date_mean\")"
   ]
  },
  {
   "cell_type": "code",
   "execution_count": 94,
   "metadata": {},
   "outputs": [
    {
     "data": {
      "text/plain": [
       "<AxesSubplot:xlabel='date_num', ylabel='date_mean'>"
      ]
     },
     "execution_count": 94,
     "metadata": {},
     "output_type": "execute_result"
    },
    {
     "data": {
      "image/png": "[encoded data removed]",
      "text/plain": [
       "<Figure size 432x288 with 1 Axes>"
      ]
     },
     "metadata": {
      "needs_background": "light"
     },
     "output_type": "display_data"
    }
   ],
   "source": [
    "cal_test[\"date_mean\"] = cal_test.groupby(\"date_num\").price.mean()\n",
    "cal_test.plot.scatter(x=\"date_num\", y = \"date_mean\")"
   ]
  },
  {
   "cell_type": "code",
   "execution_count": 96,
   "metadata": {
    "deletable": false,
    "scrolled": true
   },
   "outputs": [
    {
     "name": "stdout",
     "output_type": "stream",
     "text": [
      "                            OLS Regression Results                            \n",
      "==============================================================================\n",
      "Dep. Variable:                  price   R-squared:                       0.018\n",
      "Model:                            OLS   Adj. R-squared:                  0.018\n",
      "Method:                 Least Squares   F-statistic:                     2913.\n",
      "Date:                Wed, 03 Feb 2021   Prob (F-statistic):               0.00\n",
      "Time:                        23:26:13   Log-Likelihood:            -2.0564e+06\n",
      "No. Observations:              309288   AIC:                         4.113e+06\n",
      "Df Residuals:                  309285   BIC:                         4.113e+06\n",
      "Df Model:                           2                                         \n",
      "Covariance Type:            nonrobust                                         \n",
      "==============================================================================================================\n",
      "                                                 coef    std err          t      P>|t|      [0.025      0.975]\n",
      "--------------------------------------------------------------------------------------------------------------\n",
      "np.vander(date_num, 3, increasing=True)[0]   206.0932      1.098    187.738      0.000     203.942     208.245\n",
      "np.vander(date_num, 3, increasing=True)[1]     0.0795      0.014      5.721      0.000       0.052       0.107\n",
      "np.vander(date_num, 3, increasing=True)[2]     0.0005   3.65e-05     12.672      0.000       0.000       0.001\n",
      "==============================================================================\n",
      "Omnibus:                   237838.886   Durbin-Watson:                   0.092\n",
      "Prob(Omnibus):                  0.000   Jarque-Bera (JB):         15995177.845\n",
      "Skew:                           3.159   Prob(JB):                         0.00\n",
      "Kurtosis:                      37.659   Cond. No.                     1.83e+05\n",
      "==============================================================================\n",
      "\n",
      "Notes:\n",
      "[1] Standard Errors assume that the covariance matrix of the errors is correctly specified.\n",
      "[2] The condition number is large, 1.83e+05. This might indicate that there are\n",
      "strong multicollinearity or other numerical problems.\n"
     ]
    },
    {
     "data": {
      "text/plain": [
       "[<matplotlib.lines.Line2D at 0x7fca61b873d0>]"
      ]
     },
     "execution_count": 96,
     "metadata": {},
     "output_type": "execute_result"
    },
    {
     "data": {
      "image/png": "[encoded data removed]",
      "text/plain": [
       "<Figure size 432x288 with 1 Axes>"
      ]
     },
     "metadata": {
      "needs_background": "light"
     },
     "output_type": "display_data"
    }
   ],
   "source": [
    "# Degree 2\n",
    "plt.rcParams['agg.path.chunksize'] = 10000\n",
    "\n",
    "fit2 = sm.ols(formula=\"price ~ np.vander(date_num, 3, increasing=True) -1\",data=cal_train).fit()\n",
    "pred2 = fit2.get_prediction(cal_test['date_num']).summary_frame()\n",
    "\n",
    "ax2 = cal_test.plot.scatter(x='date_num',y='price',c='Red',title=\"Price data with least-squares fit, degree 2\")\n",
    "ax2.set_xlabel(\"Date (numerical)\")\n",
    "ax2.set_ylabel(\"Price\")\n",
    "ax2.axis(ymin=0, ymax=2000)\n",
    "\n",
    "\n",
    "# CI for the prediction at each x value, i.e. the curve itself\n",
    "ax2.plot(cal_test['date_num'], pred2['mean'],color=\"green\")\n",
    "ax2.plot(cal_test['date_num'], pred2['mean_ci_lower'], color=\"blue\",linestyle=\"dashed\")\n",
    "ax2.plot(cal_test['date_num'], pred2['mean_ci_upper'], color=\"blue\",linestyle=\"dashed\")"
   ]
  },
  {
   "cell_type": "code",
   "execution_count": 95,
   "metadata": {},
   "outputs": [
    {
     "data": {
      "text/html": [
       "<div>\n",
       "<style scoped>\n",
       "    .dataframe tbody tr th:only-of-type {\n",
       "        vertical-align: middle;\n",
       "    }\n",
       "\n",
       "    .dataframe tbody tr th {\n",
       "        vertical-align: top;\n",
       "    }\n",
       "\n",
       "    .dataframe thead th {\n",
       "        text-align: right;\n",
       "    }\n",
       "</style>\n",
       "<table border=\"1\" class=\"dataframe\">\n",
       "  <thead>\n",
       "    <tr style=\"text-align: right;\">\n",
       "      <th></th>\n",
       "      <th>mean</th>\n",
       "      <th>mean_se</th>\n",
       "      <th>mean_ci_lower</th>\n",
       "      <th>mean_ci_upper</th>\n",
       "      <th>obs_ci_lower</th>\n",
       "      <th>obs_ci_upper</th>\n",
       "    </tr>\n",
       "  </thead>\n",
       "  <tbody>\n",
       "    <tr>\n",
       "      <th>0</th>\n",
       "      <td>293.445016</td>\n",
       "      <td>0.991816</td>\n",
       "      <td>291.501084</td>\n",
       "      <td>295.388947</td>\n",
       "      <td>-72.639044</td>\n",
       "      <td>659.529075</td>\n",
       "    </tr>\n",
       "    <tr>\n",
       "      <th>1</th>\n",
       "      <td>274.836224</td>\n",
       "      <td>0.590302</td>\n",
       "      <td>273.679248</td>\n",
       "      <td>275.993200</td>\n",
       "      <td>-91.244502</td>\n",
       "      <td>640.916951</td>\n",
       "    </tr>\n",
       "    <tr>\n",
       "      <th>2</th>\n",
       "      <td>207.023394</td>\n",
       "      <td>0.966699</td>\n",
       "      <td>205.128692</td>\n",
       "      <td>208.918095</td>\n",
       "      <td>-159.060408</td>\n",
       "      <td>573.107195</td>\n",
       "    </tr>\n",
       "    <tr>\n",
       "      <th>3</th>\n",
       "      <td>225.873209</td>\n",
       "      <td>0.464257</td>\n",
       "      <td>224.963279</td>\n",
       "      <td>226.783139</td>\n",
       "      <td>-140.206820</td>\n",
       "      <td>591.953238</td>\n",
       "    </tr>\n",
       "    <tr>\n",
       "      <th>4</th>\n",
       "      <td>291.002295</td>\n",
       "      <td>0.927441</td>\n",
       "      <td>289.184537</td>\n",
       "      <td>292.820053</td>\n",
       "      <td>-75.081116</td>\n",
       "      <td>657.085706</td>\n",
       "    </tr>\n",
       "    <tr>\n",
       "      <th>...</th>\n",
       "      <td>...</td>\n",
       "      <td>...</td>\n",
       "      <td>...</td>\n",
       "      <td>...</td>\n",
       "      <td>...</td>\n",
       "      <td>...</td>\n",
       "    </tr>\n",
       "    <tr>\n",
       "      <th>314567</th>\n",
       "      <td>245.130034</td>\n",
       "      <td>0.496832</td>\n",
       "      <td>244.156257</td>\n",
       "      <td>246.103811</td>\n",
       "      <td>-120.950159</td>\n",
       "      <td>611.210227</td>\n",
       "    </tr>\n",
       "    <tr>\n",
       "      <th>314568</th>\n",
       "      <td>213.213981</td>\n",
       "      <td>0.516806</td>\n",
       "      <td>212.201055</td>\n",
       "      <td>214.226906</td>\n",
       "      <td>-152.866319</td>\n",
       "      <td>579.294280</td>\n",
       "    </tr>\n",
       "    <tr>\n",
       "      <th>314569</th>\n",
       "      <td>256.135323</td>\n",
       "      <td>0.472001</td>\n",
       "      <td>255.210215</td>\n",
       "      <td>257.060431</td>\n",
       "      <td>-109.944744</td>\n",
       "      <td>622.215390</td>\n",
       "    </tr>\n",
       "    <tr>\n",
       "      <th>314570</th>\n",
       "      <td>216.191711</td>\n",
       "      <td>0.449096</td>\n",
       "      <td>215.311495</td>\n",
       "      <td>217.071927</td>\n",
       "      <td>-149.888245</td>\n",
       "      <td>582.271667</td>\n",
       "    </tr>\n",
       "    <tr>\n",
       "      <th>314571</th>\n",
       "      <td>208.267056</td>\n",
       "      <td>0.827259</td>\n",
       "      <td>206.645652</td>\n",
       "      <td>209.888460</td>\n",
       "      <td>-157.815433</td>\n",
       "      <td>574.349545</td>\n",
       "    </tr>\n",
       "  </tbody>\n",
       "</table>\n",
       "<p>314572 rows × 6 columns</p>\n",
       "</div>"
      ],
      "text/plain": [
       "              mean   mean_se  mean_ci_lower  mean_ci_upper  obs_ci_lower  \\\n",
       "0       293.445016  0.991816     291.501084     295.388947    -72.639044   \n",
       "1       274.836224  0.590302     273.679248     275.993200    -91.244502   \n",
       "2       207.023394  0.966699     205.128692     208.918095   -159.060408   \n",
       "3       225.873209  0.464257     224.963279     226.783139   -140.206820   \n",
       "4       291.002295  0.927441     289.184537     292.820053    -75.081116   \n",
       "...            ...       ...            ...            ...           ...   \n",
       "314567  245.130034  0.496832     244.156257     246.103811   -120.950159   \n",
       "314568  213.213981  0.516806     212.201055     214.226906   -152.866319   \n",
       "314569  256.135323  0.472001     255.210215     257.060431   -109.944744   \n",
       "314570  216.191711  0.449096     215.311495     217.071927   -149.888245   \n",
       "314571  208.267056  0.827259     206.645652     209.888460   -157.815433   \n",
       "\n",
       "        obs_ci_upper  \n",
       "0         659.529075  \n",
       "1         640.916951  \n",
       "2         573.107195  \n",
       "3         591.953238  \n",
       "4         657.085706  \n",
       "...              ...  \n",
       "314567    611.210227  \n",
       "314568    579.294280  \n",
       "314569    622.215390  \n",
       "314570    582.271667  \n",
       "314571    574.349545  \n",
       "\n",
       "[314572 rows x 6 columns]"
      ]
     },
     "execution_count": 95,
     "metadata": {},
     "output_type": "execute_result"
    }
   ],
   "source": [
    "pred2"
   ]
  },
  {
   "cell_type": "code",
   "execution_count": 86,
   "metadata": {},
   "outputs": [
    {
     "data": {
      "text/plain": [
       "[<matplotlib.lines.Line2D at 0x7fcab6dbd640>]"
      ]
     },
     "execution_count": 86,
     "metadata": {},
     "output_type": "execute_result"
    },
    {
     "data": {
      "image/png": "[encoded data removed]",
      "text/plain": [
       "<Figure size 432x288 with 1 Axes>"
      ]
     },
     "metadata": {
      "needs_background": "light"
     },
     "output_type": "display_data"
    }
   ],
   "source": [
    "# Degree 3\n",
    "fit3 = sm.ols(formula=\"price ~ np.vander(date_num, 4, increasing=True) -1\",data=cal_train).fit()\n",
    "pred3 = fit3.get_prediction(cal_test['date_num']).summary_frame()\n",
    "\n",
    "ax3 = cal_test.plot.scatter(x='date_num',y='price',c='Red',title=\"Price data with least-squares fit, degree 3\")\n",
    "ax3.set_xlabel(\"Date (numerical)\")\n",
    "ax3.set_ylabel(\"Price\")\n",
    "ax3.axis(ymin=0, ymax=2000)\n",
    "\n",
    "# CI for the prediction at each x value, i.e. the curve itself\n",
    "ax3.plot(cal_test['date_num'], pred3['mean'],color=\"green\")\n",
    "ax3.plot(cal_test['date_num'], pred3['mean_ci_lower'], color=\"blue\",linestyle=\"dashed\")\n",
    "ax3.plot(cal_test['date_num'], pred3['mean_ci_upper'], color=\"blue\",linestyle=\"dashed\")"
   ]
  },
  {
   "cell_type": "code",
   "execution_count": 87,
   "metadata": {},
   "outputs": [
    {
     "data": {
      "text/plain": [
       "[<matplotlib.lines.Line2D at 0x7fca31c14430>]"
      ]
     },
     "execution_count": 87,
     "metadata": {},
     "output_type": "execute_result"
    },
    {
     "data": {
      "image/png": "[encoded data removed]",
      "text/plain": [
       "<Figure size 432x288 with 1 Axes>"
      ]
     },
     "metadata": {
      "needs_background": "light"
     },
     "output_type": "display_data"
    }
   ],
   "source": [
    "# Degree 5\n",
    "fit5 = sm.ols(formula=\"price ~ np.vander(date_num, 6, increasing=True) -1\",data=cal_train).fit()\n",
    "pred5 = fit5.get_prediction(cal_test['date_num']).summary_frame()\n",
    "\n",
    "ax5 = cal_test.plot.scatter(x='date_num',y='price',c='Red',title=\"Price data with least-squares fit, degree 5\")\n",
    "ax5.set_xlabel(\"Date (numerical)\")\n",
    "ax5.set_ylabel(\"Price\")\n",
    "ax5.axis(ymin=0, ymax=2000)\n",
    "\n",
    "# CI for the prediction at each x value, i.e. the curve itself\n",
    "ax5.plot(cal_test['date_num'], pred5['mean'],color=\"green\")\n",
    "ax5.plot(cal_test['date_num'], pred5['mean_ci_lower'], color=\"blue\",linestyle=\"dashed\")\n",
    "ax5.plot(cal_test['date_num'], pred5['mean_ci_upper'], color=\"blue\",linestyle=\"dashed\")"
   ]
  },
  {
   "cell_type": "code",
   "execution_count": 90,
   "metadata": {
    "scrolled": true
   },
   "outputs": [
    {
     "data": {
      "text/plain": [
       "[<matplotlib.lines.Line2D at 0x7fca47a660a0>]"
      ]
     },
     "execution_count": 90,
     "metadata": {},
     "output_type": "execute_result"
    },
    {
     "data": {
      "image/png": "[encoded data removed]",
      "text/plain": [
       "<Figure size 432x288 with 1 Axes>"
      ]
     },
     "metadata": {
      "needs_background": "light"
     },
     "output_type": "display_data"
    }
   ],
   "source": [
    "# Degree 8\n",
    "fit8 = sm.ols(formula=\"price ~ np.vander(date_num, 9, increasing=True) -1\",data=cal_train).fit()\n",
    "pred8 = fit8.get_prediction(cal_test['date_num']).summary_frame()\n",
    "\n",
    "ax8 = cal_test.plot.scatter(x='date_num',y='price',c='Red',title=\"Price data with least-squares fit, degree 8\")\n",
    "ax8.set_xlabel(\"Date (numerical)\")\n",
    "ax8.set_ylabel(\"Price\")\n",
    "ax8.axis(ymin=0, ymax=2000)\n",
    "\n",
    "# CI for the prediction at each x value, i.e. the curve itself\n",
    "ax8.plot(cal_test['date_num'], pred8['mean'],color=\"green\")\n",
    "ax8.plot(cal_test['date_num'], pred8['mean_ci_lower'], color=\"blue\",linestyle=\"dashed\")\n",
    "ax8.plot(cal_test['date_num'], pred8['mean_ci_upper'], color=\"blue\",linestyle=\"dashed\")"
   ]
  },
  {
   "cell_type": "code",
   "execution_count": 102,
   "metadata": {},
   "outputs": [
    {
     "name": "stdout",
     "output_type": "stream",
     "text": [
      "R^2 for degree 2: 0.0184885736874294\n",
      "R^2 for degree 3: 0.03893294505042599\n",
      "R^2 for degree 5: 0.04210025453270427\n",
      "R^2 for degree 8: -0.17019496979770965\n"
     ]
    }
   ],
   "source": [
    "print(\"R^2 for degree 2: \" + str(fit2.rsquared))\n",
    "print(\"R^2 for degree 3: \" + str(fit3.rsquared))\n",
    "print(\"R^2 for degree 5: \" + str(fit5.rsquared))\n",
    "print(\"R^2 for degree 8: \" + str(fit8.rsquared))"
   ]
  },
  {
   "cell_type": "markdown",
   "metadata": {
    "deletable": false
   },
   "source": [
    "*Your answer here*"
   ]
  },
  {
   "cell_type": "markdown",
   "metadata": {
    "autograde": "1.3",
    "deletable": false,
    "editable": false
   },
   "source": [
    "**1.3.2** You should see that the degree 8 polynomial's predictions are awful- either nonsensically near zero [or far too large] at many input values. This isn't just simple overfitting. What is going wrong in this model, and how might it be addressed?\n"
   ]
  },
  {
   "cell_type": "markdown",
   "metadata": {
    "deletable": false
   },
   "source": [
    "*Your answer here*"
   ]
  },
  {
   "cell_type": "markdown",
   "metadata": {
    "autograde": "1.3",
    "deletable": false,
    "editable": false
   },
   "source": [
    "**1.3.3** Fit a penalized B-spline using `pygam` with the smoothness parameter chosen by cross-validation on the training set.  Again, provide the train and test scores of the best-performing model and plot its predictions.\n"
   ]
  },
  {
   "cell_type": "code",
   "execution_count": 13,
   "metadata": {
    "deletable": false
   },
   "outputs": [],
   "source": [
    "# your code here\n"
   ]
  },
  {
   "cell_type": "markdown",
   "metadata": {
    "autograde": "1.3",
    "deletable": false,
    "editable": false
   },
   "source": [
    "**1.3.4** Of the models, which performs the best? What is the effect of the tuning parameters (degree and smoothness penalty)?\n"
   ]
  },
  {
   "cell_type": "markdown",
   "metadata": {
    "deletable": false
   },
   "source": [
    "*Your answer here*"
   ]
  },
  {
   "cell_type": "markdown",
   "metadata": {
    "autograde": "1.4",
    "deletable": false,
    "editable": false
   },
   "source": [
    "**1.4** It is possible/likely that prices on weekends (Friday nights and Saturday nights) are systematically higher than prices on weekdays, and that including this aspect of the data-generating process in our model will produce a better fit. Create a binary indicator of weekend versus non-weekend, and include it in your additive model based on `pygam`.  How does it impact the model's performance?\n",
    "\n",
    "*Hint*: include a categorical variable in a GAM by importing and using `pygam.f` in the same way you've used `pygam.s` for continuous variables.\n",
    "\n"
   ]
  },
  {
   "cell_type": "code",
   "execution_count": 16,
   "metadata": {
    "deletable": false
   },
   "outputs": [],
   "source": [
    "# your code here\n"
   ]
  },
  {
   "cell_type": "markdown",
   "metadata": {
    "deletable": false
   },
   "source": [
    "*Your answer here*"
   ]
  },
  {
   "cell_type": "markdown",
   "metadata": {
    "autograde": "1.5",
    "deletable": false,
    "editable": false
   },
   "source": [
    "**1.5** You may have noticed from your scatterplots of average price versus day on the training set that there are a few days with abnormally high average prices. Sort the training data in decreasing order of average price, extracting the 10 most expensive dates. Why are the prices on these days so high? Is it something about the days themselves, noise, an artifact of data collection, or something else?"
   ]
  },
  {
   "cell_type": "code",
   "execution_count": 19,
   "metadata": {
    "deletable": false
   },
   "outputs": [],
   "source": [
    "# your code here\n"
   ]
  },
  {
   "cell_type": "markdown",
   "metadata": {
    "deletable": false
   },
   "source": [
    "*Your answer here*"
   ]
  },
  {
   "cell_type": "markdown",
   "metadata": {
    "deletable": false,
    "editable": false
   },
   "source": [
    "<div class='exercise'><b> Question 2 [50 pts]: Predicting Airbnb Rental Price Through Listing Features </b></div>\n",
    "\n",
    "In this problem, we'll continue our exploration of Airbnb data by predicting price based on listing features. The data can be found in `listings_train.csv` and `listings_test.csv`.\n",
    "\n",
    "**2.1** First, visualize the relationship between each of the predictors and the response variable. Does it appear that some of the predictors have a nonlinear relationship with the response variable?\n",
    "\n",
    "\n",
    "**2.2** Fit the following models on the training set and compare the $R^2$ score of the fitted models on the test set:\n",
    "* Linear regression\n",
    "* Regression with polynomial basis functions of degree 3 (i.e. basis functions $x, x^2, x^3$ for each predictor $x$) for quantitative predictors.\n",
    "\n",
    "**2.3** Do you expect any advantage in fitting an additive model to these data, compared to the above models?\n",
    "\n",
    "**2.4** Fit an additive model using the `pygam` library to the training set, and compare the test $R^2$ of the fitted model to the above models. You may use a penalized B-spline basis function on each predictor, tuned using cross-validation on the training set.\n",
    "\n",
    "**2.5** Plot and examine the smooth of each predictor for the fitted additive model. What are some useful insights conveyed by these plots?\n",
    "\n",
    "**2.6** Using the outputs and insights from part 1), discuss the most important variables in the driving prices, and give advide to a frugal traveller hoping to visit Boston."
   ]
  },
  {
   "cell_type": "markdown",
   "metadata": {
    "autograde": "2.1",
    "deletable": false,
    "editable": false
   },
   "source": [
    "**2.1** First, visualize the relationship between each of the predictors and the response variable. Does it appear that some of the predictors have a nonlinear relationship with the response variable?\n",
    "\n"
   ]
  },
  {
   "cell_type": "code",
   "execution_count": 20,
   "metadata": {
    "deletable": false
   },
   "outputs": [],
   "source": [
    "# your code here\n"
   ]
  },
  {
   "cell_type": "markdown",
   "metadata": {
    "deletable": false
   },
   "source": [
    "*Your answer here*"
   ]
  },
  {
   "cell_type": "markdown",
   "metadata": {
    "autograde": "2.2",
    "deletable": false,
    "editable": false
   },
   "source": [
    "**2.2** Fit the following models on the training set and compare the $R^2$ score of the fitted models on the test set:\n",
    "* Linear regression\n",
    "* Regression with polynomial basis functions of degree 3 (i.e. basis functions $x, x^2, x^3$ for each predictor $x$) for quantitative predictors.\n"
   ]
  },
  {
   "cell_type": "code",
   "execution_count": 25,
   "metadata": {
    "deletable": false
   },
   "outputs": [],
   "source": [
    "# your code here\n"
   ]
  },
  {
   "cell_type": "markdown",
   "metadata": {
    "deletable": false
   },
   "source": [
    "*Your answer here*"
   ]
  },
  {
   "cell_type": "markdown",
   "metadata": {
    "autograde": "2.3",
    "deletable": false,
    "editable": false
   },
   "source": [
    "**2.3** Do you expect any advantage in fitting an additive model to these data, compared to the above models?\n"
   ]
  },
  {
   "cell_type": "markdown",
   "metadata": {
    "deletable": false
   },
   "source": [
    "*Your answer here*"
   ]
  },
  {
   "cell_type": "markdown",
   "metadata": {
    "autograde": "2.4",
    "deletable": false,
    "editable": false
   },
   "source": [
    "**2.4** Fit an additive model using the `pygam` library to the training set, and compare the test $R^2$ of the fitted model to the above models. You may use a penalized B-spline basis function on each predictor, tuned using cross-validation on the training set.\n"
   ]
  },
  {
   "cell_type": "code",
   "execution_count": 28,
   "metadata": {
    "deletable": false
   },
   "outputs": [],
   "source": [
    "# your code here\n"
   ]
  },
  {
   "cell_type": "markdown",
   "metadata": {
    "autograde": "2.5",
    "deletable": false,
    "editable": false
   },
   "source": [
    "**2.5** Plot and examine the smooth of each predictor for the fitted additive model. What are some useful insights conveyed by these plots?\n"
   ]
  },
  {
   "cell_type": "code",
   "execution_count": 29,
   "metadata": {
    "deletable": false
   },
   "outputs": [],
   "source": [
    "# your code here\n"
   ]
  },
  {
   "cell_type": "markdown",
   "metadata": {
    "deletable": false
   },
   "source": [
    "*Your answer here*"
   ]
  },
  {
   "cell_type": "markdown",
   "metadata": {
    "autograde": "2.6",
    "deletable": false,
    "editable": false
   },
   "source": [
    "**2.6** Using the outputs and insights from part 1), discuss the most important variables in the driving prices, and give advide to a frugal traveller hoping to visit Boston."
   ]
  },
  {
   "cell_type": "markdown",
   "metadata": {
    "deletable": false
   },
   "source": [
    "*Your answer here*"
   ]
  },
  {
   "cell_type": "code",
   "execution_count": null,
   "metadata": {
    "deletable": false,
    "editable": false
   },
   "outputs": [],
   "source": []
  }
 ],
 "metadata": {
  "kernelspec": {
   "display_name": "Python 3",
   "language": "python",
   "name": "python3"
  },
  "language_info": {
   "codemirror_mode": {
    "name": "ipython",
    "version": 3
   },
   "file_extension": ".py",
   "mimetype": "text/x-python",
   "name": "python",
   "nbconvert_exporter": "python",
   "pygments_lexer": "ipython3",
   "version": "3.8.5"
  }
 },
 "nbformat": 4,
 "nbformat_minor": 2
}
