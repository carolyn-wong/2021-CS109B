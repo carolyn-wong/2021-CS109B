{
 "cells": [
  {
   "cell_type": "markdown",
   "metadata": {
    "deletable": false,
    "editable": false
   },
   "source": [
    "# <img style=\"float: left; padding-right: 10px; width: 45px\" src=\"https://raw.githubusercontent.com/Harvard-IACS/2018-CS109A/master/content/styles/iacs.png\"> CS109B Data Science 2: Advanced Topics in Data Science \n",
    "## Homework 1 - Smoothers and Generalized Additive Models\n",
    "\n",
    "\n",
    "\n",
    "**Harvard University**<br/>\n",
    "**Spring 2021**<br/>\n",
    "**Instructors**: Mark Glickman, Pavlos Protopapas, and Chris Tanner \n",
    "\n",
    "\n",
    "<hr style=\"height:2pt\">"
   ]
  },
  {
   "cell_type": "code",
   "execution_count": 1,
   "metadata": {
    "deletable": false,
    "editable": false
   },
   "outputs": [
    {
     "data": {
      "text/html": [
       "<style>\n",
       "blockquote { background: #AEDE94; }\n",
       "h1 { \n",
       "    padding-top: 25px;\n",
       "    padding-bottom: 25px;\n",
       "    text-align: left; \n",
       "    padding-left: 10px;\n",
       "    background-color: #DDDDDD; \n",
       "    color: black;\n",
       "}\n",
       "h2 { \n",
       "    padding-top: 10px;\n",
       "    padding-bottom: 10px;\n",
       "    text-align: left; \n",
       "    padding-left: 5px;\n",
       "    background-color: #EEEEEE; \n",
       "    color: black;\n",
       "}\n",
       "\n",
       "div.exercise {\n",
       "\tbackground-color: #ffcccc;\n",
       "\tborder-color: #E9967A; \t\n",
       "\tborder-left: 5px solid #800080; \n",
       "\tpadding: 0.5em;\n",
       "}\n",
       "\n",
       "div.exercise-r {\n",
       "\tbackground-color: #fce8e8;\n",
       "\tborder-color: #E9967A; \t\n",
       "\tborder-left: 5px solid #800080; \n",
       "\tpadding: 0.5em;\n",
       "}\n",
       "\n",
       "\n",
       "span.sub-q {\n",
       "\tfont-weight: bold;\n",
       "}\n",
       "div.theme {\n",
       "\tbackground-color: #DDDDDD;\n",
       "\tborder-color: #E9967A; \t\n",
       "\tborder-left: 5px solid #800080; \n",
       "\tpadding: 0.5em;\n",
       "\tfont-size: 18pt;\n",
       "}\n",
       "div.gc { \n",
       "\tbackground-color: #AEDE94;\n",
       "\tborder-color: #E9967A; \t \n",
       "\tborder-left: 5px solid #800080; \n",
       "\tpadding: 0.5em;\n",
       "\tfont-size: 12pt;\n",
       "}\n",
       "p.q1 { \n",
       "    padding-top: 5px;\n",
       "    padding-bottom: 5px;\n",
       "    text-align: left; \n",
       "    padding-left: 5px;\n",
       "    background-color: #EEEEEE; \n",
       "    color: black;\n",
       "}\n",
       "header {\n",
       "   padding-top: 35px;\n",
       "    padding-bottom: 35px;\n",
       "    text-align: left; \n",
       "    padding-left: 10px;\n",
       "    background-color: #DDDDDD; \n",
       "    color: black;\n",
       "}\n",
       "</style>\n",
       "\n"
      ],
      "text/plain": [
       "<IPython.core.display.HTML object>"
      ]
     },
     "execution_count": 1,
     "metadata": {},
     "output_type": "execute_result"
    }
   ],
   "source": [
    "#PLEASE RUN THIS CELL \n",
    "import requests\n",
    "from IPython.core.display import HTML\n",
    "styles = requests.get(\"https://raw.githubusercontent.com/Harvard-IACS/2018-CS109A/master/content/styles/cs109.css\").text\n",
    "HTML(styles)"
   ]
  },
  {
   "cell_type": "markdown",
   "metadata": {
    "deletable": false,
    "editable": false
   },
   "source": [
    "### INSTRUCTIONS\n",
    "\n",
    "- To submit your assignment, please follow the instructions on Canvas.\n",
    "- Please restart the kernel and run the entire notebook again before you submit.\n",
    "\n",
    "<hr style=\"height:2pt\">"
   ]
  },
  {
   "cell_type": "markdown",
   "metadata": {
    "deletable": false,
    "editable": false
   },
   "source": [
    "### Please use the libraries below:"
   ]
  },
  {
   "cell_type": "code",
   "execution_count": 2,
   "metadata": {
    "deletable": false,
    "editable": false
   },
   "outputs": [],
   "source": [
    "import pandas as pd\n",
    "import numpy as np\n",
    "import datetime\n",
    "import matplotlib.pyplot as plt\n",
    "%matplotlib inline\n",
    "import statsmodels.formula.api as sm\n",
    "from sklearn.preprocessing import PolynomialFeatures\n",
    "from sklearn.metrics import r2_score\n",
    "from sklearn.model_selection import KFold\n",
    "from pygam import LinearGAM, s, f\n",
    "from sklearn.preprocessing import LabelEncoder\n",
    "\n",
    "# Seaborn visualization library\n",
    "import seaborn as sns"
   ]
  },
  {
   "cell_type": "markdown",
   "metadata": {
    "deletable": false,
    "editable": false
   },
   "source": [
    "\n",
    "<hr style=\"height:2pt\">"
   ]
  },
  {
   "cell_type": "markdown",
   "metadata": {
    "deletable": false,
    "editable": false
   },
   "source": [
    "<div class='exercise'><b> Question 1 [50 pts]: Modeling seasonality of Airbnb prices </b></div>\n",
    "\n",
    "In this problem, the task is to build a regression model to predict the price of an Airbnb rental for a given date. The data are provided in `calendar_train.csv` and `calendar_test.csv`, which contain availability and price data for a sample of Airbnb units in the Boston area from 2017 to 2018, about 4 observations per day in each set.\n",
    "\n",
    "**1.1** Start by loading the data using pandas.  \n",
    "*Hint*: You likely want to have pandas parse the `date` column as a datetime object via the `parse_dates` argument of `pd.read_csv`\n",
    "\n",
    "\n",
    "**1.2** Visualize the average price by month and day of the week (i.e., Monday, Tuesday, etc.) for the training set. Point out any trends you notice and explain whether or not they make sense.\n",
    "\n",
    "\n",
    "**1.3** Explore different regression models. Fit a regression model that uses the date as a predictor and predicts the price of an Airbnb rental on that date. In this section, you should ignore all other predictors besides the date. Fit the following models on the training set, and compare the $R^2$ of the fitted models on the test set. Include plots of the fitted models for each method. Make sure to fit your model on *all training set observations*. Do not average or otherwise combine the data before fitting.\n",
    "\n",
    "\n",
    "*Important*: Convert the `date` column into a numerical variable by taking the difference in days between each date and the earliest date in the column.\n",
    "\n",
    "* **1.3.1** Fit simple polynomial models of degree 2, 3, 5, and 8 via the `statsmodels` library to the training data. Provide train and test R^2 scores and provide plot(s) of a) the daily averages and b) each model's predictions.\n",
    "\n",
    "* **1.3.2** You should see that the degree 8 polynomial's predictions are awful- either nonsensically near zero [or far too large] at many input values. This isn't just simple overfitting. What is going wrong in this model, and how might it be addressed?\n",
    "\n",
    "* **1.3.3** Fit a penalized B-spline using `pygam` with the smoothness parameter chosen by cross-validation on the training set.  Again, provide the train and test scores of the best-performing model and plot its predictions.\n",
    "\n",
    "* **1.3.4** Of the models, which performs the best? What is the effect of the tuning parameters (degree and smoothness penalty)?\n",
    "\n",
    "\n",
    "**1.4** It is possible/likely that prices on weekends (Friday nights and Saturday nights) are systematically higher than prices on weekdays, and that including this aspect of the data-generating process in our model will produce a better fit. Create a binary indicator of weekend versus non-weekend, and include it in your additive model based on `pygam`.  How does it impact the model's performance?  \n",
    "\n",
    "*Hint*: include a categorical variable in a GAM by importing and using `pygam.f` in the same way you've used `pygam.s` for continuous variables.\n",
    "\n",
    "\n",
    "**1.5** You may have noticed from your scatterplots of average price versus day on the training set that there are a few days with abnormally high average prices. Sort the training data in decreasing order of average price, extracting the 10 most expensive dates. Why are the prices on these days so high? Is it something about the days themselves, noise, an artifact of data collection, or something else?\n"
   ]
  },
  {
   "cell_type": "markdown",
   "metadata": {
    "autograde": "1.1",
    "deletable": false,
    "editable": false
   },
   "source": [
    "**1.1** Start by loading the data using pandas.\n",
    "*Hint*: You likely want to have pandas parse the `date` column as a datetime object via the `parse_dates` argument of `pd.read_csv`\n",
    "\n"
   ]
  },
  {
   "cell_type": "code",
   "execution_count": 3,
   "metadata": {
    "deletable": false
   },
   "outputs": [
    {
     "data": {
      "text/html": [
       "<div>\n",
       "<style scoped>\n",
       "    .dataframe tbody tr th:only-of-type {\n",
       "        vertical-align: middle;\n",
       "    }\n",
       "\n",
       "    .dataframe tbody tr th {\n",
       "        vertical-align: top;\n",
       "    }\n",
       "\n",
       "    .dataframe thead th {\n",
       "        text-align: right;\n",
       "    }\n",
       "</style>\n",
       "<table border=\"1\" class=\"dataframe\">\n",
       "  <thead>\n",
       "    <tr style=\"text-align: right;\">\n",
       "      <th></th>\n",
       "      <th>listing_id</th>\n",
       "      <th>date</th>\n",
       "      <th>available</th>\n",
       "      <th>price</th>\n",
       "    </tr>\n",
       "  </thead>\n",
       "  <tbody>\n",
       "    <tr>\n",
       "      <th>123</th>\n",
       "      <td>20872145</td>\n",
       "      <td>2018-04-02</td>\n",
       "      <td>t</td>\n",
       "      <td>62.0</td>\n",
       "    </tr>\n",
       "    <tr>\n",
       "      <th>124</th>\n",
       "      <td>20872145</td>\n",
       "      <td>2018-04-01</td>\n",
       "      <td>t</td>\n",
       "      <td>59.0</td>\n",
       "    </tr>\n",
       "    <tr>\n",
       "      <th>125</th>\n",
       "      <td>20872145</td>\n",
       "      <td>2018-03-31</td>\n",
       "      <td>t</td>\n",
       "      <td>75.0</td>\n",
       "    </tr>\n",
       "    <tr>\n",
       "      <th>126</th>\n",
       "      <td>20872145</td>\n",
       "      <td>2018-03-30</td>\n",
       "      <td>t</td>\n",
       "      <td>71.0</td>\n",
       "    </tr>\n",
       "    <tr>\n",
       "      <th>127</th>\n",
       "      <td>20872145</td>\n",
       "      <td>2018-03-28</td>\n",
       "      <td>t</td>\n",
       "      <td>51.0</td>\n",
       "    </tr>\n",
       "    <tr>\n",
       "      <th>...</th>\n",
       "      <td>...</td>\n",
       "      <td>...</td>\n",
       "      <td>...</td>\n",
       "      <td>...</td>\n",
       "    </tr>\n",
       "    <tr>\n",
       "      <th>733756</th>\n",
       "      <td>15589328</td>\n",
       "      <td>2018-06-26</td>\n",
       "      <td>t</td>\n",
       "      <td>149.0</td>\n",
       "    </tr>\n",
       "    <tr>\n",
       "      <th>733757</th>\n",
       "      <td>15589328</td>\n",
       "      <td>2018-06-25</td>\n",
       "      <td>t</td>\n",
       "      <td>149.0</td>\n",
       "    </tr>\n",
       "    <tr>\n",
       "      <th>733758</th>\n",
       "      <td>15589328</td>\n",
       "      <td>2018-06-23</td>\n",
       "      <td>t</td>\n",
       "      <td>149.0</td>\n",
       "    </tr>\n",
       "    <tr>\n",
       "      <th>733759</th>\n",
       "      <td>15589328</td>\n",
       "      <td>2018-06-22</td>\n",
       "      <td>t</td>\n",
       "      <td>149.0</td>\n",
       "    </tr>\n",
       "    <tr>\n",
       "      <th>733766</th>\n",
       "      <td>15589328</td>\n",
       "      <td>2017-11-01</td>\n",
       "      <td>t</td>\n",
       "      <td>101.0</td>\n",
       "    </tr>\n",
       "  </tbody>\n",
       "</table>\n",
       "<p>309288 rows × 4 columns</p>\n",
       "</div>"
      ],
      "text/plain": [
       "        listing_id       date available  price\n",
       "123       20872145 2018-04-02         t   62.0\n",
       "124       20872145 2018-04-01         t   59.0\n",
       "125       20872145 2018-03-31         t   75.0\n",
       "126       20872145 2018-03-30         t   71.0\n",
       "127       20872145 2018-03-28         t   51.0\n",
       "...            ...        ...       ...    ...\n",
       "733756    15589328 2018-06-26         t  149.0\n",
       "733757    15589328 2018-06-25         t  149.0\n",
       "733758    15589328 2018-06-23         t  149.0\n",
       "733759    15589328 2018-06-22         t  149.0\n",
       "733766    15589328 2017-11-01         t  101.0\n",
       "\n",
       "[309288 rows x 4 columns]"
      ]
     },
     "execution_count": 3,
     "metadata": {},
     "output_type": "execute_result"
    }
   ],
   "source": [
    "# your code here\n",
    "cal_train = pd.read_csv(\"data/calendar_train.csv\", parse_dates=['date']).dropna(subset=[\"price\"])\n",
    "cal_test = pd.read_csv(\"data/calendar_test.csv\", parse_dates=['date']).dropna(subset=[\"price\"])\n",
    "cal_train"
   ]
  },
  {
   "cell_type": "markdown",
   "metadata": {
    "autograde": "1.2",
    "deletable": false,
    "editable": false
   },
   "source": [
    "**1.2** Visualize the average price by month and day of the week (i.e., Monday, Tuesday, etc.) for the training set. Point out any trends you notice and explain whether or not they make sense.\n",
    "\n"
   ]
  },
  {
   "cell_type": "code",
   "execution_count": 31,
   "metadata": {
    "deletable": false
   },
   "outputs": [],
   "source": [
    "# your code here\n",
    "# Add month/day of week columns\n",
    "cal_train['month']=pd.to_datetime(cal_train['date']).dt.month\n",
    "cal_train['weekday']=pd.to_datetime(cal_train['date']).dt.dayofweek"
   ]
  },
  {
   "cell_type": "code",
   "execution_count": 28,
   "metadata": {},
   "outputs": [
    {
     "data": {
      "image/png": "[encoded data removed]",
      "text/plain": [
       "<Figure size 432x288 with 1 Axes>"
      ]
     },
     "metadata": {
      "needs_background": "light"
     },
     "output_type": "display_data"
    }
   ],
   "source": [
    "cal_train.groupby('month').price.mean().plot.bar(title=\"Average price by month\", xlabel=\"month\", ylabel=\"price\");"
   ]
  },
  {
   "cell_type": "code",
   "execution_count": 29,
   "metadata": {
    "scrolled": true
   },
   "outputs": [
    {
     "data": {
      "image/png": "[encoded data removed]",
      "text/plain": [
       "<Figure size 432x288 with 1 Axes>"
      ]
     },
     "metadata": {
      "needs_background": "light"
     },
     "output_type": "display_data"
    }
   ],
   "source": [
    "cal_train.groupby('weekday').price.mean().plot.bar(title=\"Average price by weekday\",xlabel=\"weekday\", ylabel=\"price\");"
   ]
  },
  {
   "cell_type": "markdown",
   "metadata": {
    "deletable": false
   },
   "source": [
    "*When plotting by month, the average price decreases in the late autumn/winter months, and increases in the summer. When plotting by day of the week, the average price increases slightly on Friday and Saturday, and is lower on the other days of the week. These trends make sense since we would expect the best weather in Boston to be in the spring, summer, and fall and lead to more tourists, causing a price rise. Similarly, on the weekends we would expect more people to be coming into Boston for vacation, with a corresponding price rise.*"
   ]
  },
  {
   "cell_type": "markdown",
   "metadata": {
    "autograde": "1.3",
    "deletable": false,
    "editable": false
   },
   "source": [
    "**1.3** Explore different regression models. Fit a regression model that uses the date as a predictor and predicts the price of an Airbnb rental on that date. In this section, you should ignore all other predictors besides the date. Fit the following models on the training set, and compare the $R^2$ of the fitted models on the test set. Include plots of the fitted models for each method. Make sure to fit your model on *all training set observations*. Do not average or otherwise combine the data before fitting.\n",
    "\n",
    "\n",
    "*Important*: Convert the `date` column into a numerical variable by taking the difference in days between each date and the earliest date in the column.\n",
    "\n",
    "**1.3.1** Fit simple polynomial models of degree 2, 3, 5, and 8 via the `statsmodels` library to the training data. Provide train and test R^2 scores and provide plot(s) of a) the daily averages and b) each model's predictions.\n",
    "\n"
   ]
  },
  {
   "cell_type": "code",
   "execution_count": 8,
   "metadata": {},
   "outputs": [
    {
     "name": "stdout",
     "output_type": "stream",
     "text": [
      "    listing_id       date available  price  date_num\n",
      "0     21205442 2018-09-28         t  138.0       357\n",
      "1      5166870 2018-08-11         t  210.0       309\n",
      "12    19455818 2018-04-13         t  869.0       189\n",
      "14    20351854 2017-12-23         t  239.0        78\n",
      "17    20622324 2018-02-09         t  259.0       126\n"
     ]
    }
   ],
   "source": [
    "# Convert date into numerical variable for train and test\n",
    "min_date = cal_train['date'].min()\n",
    "cal_train['date_num'] = (cal_train['date'] - min_date).dt.days\n",
    "cal_test['date_num'] = (cal_test['date'] - min_date).dt.days\n",
    "print(cal_test.head())"
   ]
  },
  {
   "cell_type": "code",
   "execution_count": 9,
   "metadata": {},
   "outputs": [
    {
     "data": {
      "text/plain": [
       "<AxesSubplot:xlabel='date_num', ylabel='price_mean_by_date'>"
      ]
     },
     "execution_count": 9,
     "metadata": {},
     "output_type": "execute_result"
    },
    {
     "data": {
      "image/png": "[encoded data removed]",
      "text/plain": [
       "<Figure size 432x288 with 1 Axes>"
      ]
     },
     "metadata": {
      "needs_background": "light"
     },
     "output_type": "display_data"
    }
   ],
   "source": [
    "cal_train[\"price_mean_by_date\"] = cal_train.groupby(\"date_num\").price.mean()\n",
    "cal_train.plot.scatter(x=\"date_num\", y = \"price_mean_by_date\")"
   ]
  },
  {
   "cell_type": "code",
   "execution_count": 10,
   "metadata": {},
   "outputs": [
    {
     "data": {
      "text/plain": [
       "<AxesSubplot:xlabel='date_num', ylabel='price_mean_by_date'>"
      ]
     },
     "execution_count": 10,
     "metadata": {},
     "output_type": "execute_result"
    },
    {
     "data": {
      "image/png": "[encoded data removed]",
      "text/plain": [
       "<Figure size 432x288 with 1 Axes>"
      ]
     },
     "metadata": {
      "needs_background": "light"
     },
     "output_type": "display_data"
    }
   ],
   "source": [
    "cal_test[\"price_mean_by_date\"] = cal_test.groupby(\"date_num\").price.mean()\n",
    "cal_test.plot.scatter(x=\"date_num\", y = \"price_mean_by_date\")"
   ]
  },
  {
   "cell_type": "code",
   "execution_count": 65,
   "metadata": {
    "deletable": false,
    "scrolled": true
   },
   "outputs": [
    {
     "data": {
      "text/plain": [
       "[<matplotlib.lines.Line2D at 0x7fcf5b0102b0>]"
      ]
     },
     "execution_count": 65,
     "metadata": {},
     "output_type": "execute_result"
    },
    {
     "data": {
      "image/png": "[encoded data removed]",
      "text/plain": [
       "<Figure size 432x288 with 1 Axes>"
      ]
     },
     "metadata": {
      "needs_background": "light"
     },
     "output_type": "display_data"
    }
   ],
   "source": [
    "# Degree 2\n",
    "plt.rcParams['agg.path.chunksize'] = 10000\n",
    "\n",
    "fit2 = sm.ols(formula=\"price ~ np.vander(date_num, 3, increasing=True) -1\",data=cal_train).fit()\n",
    "xpred = pd.DataFrame({\"date_num\":np.arange(0,365,1)})\n",
    "\n",
    "pred2 = fit2.get_prediction(xpred).summary_frame()\n",
    "ax2 = cal_test.plot.scatter(x='date_num',y='price_mean_by_date',c='Red',title=\"Price data with least-squares fit, degree 2\")\n",
    "ax2.set_xlabel(\"Date (numerical)\")\n",
    "ax2.set_ylabel(\"Price\")\n",
    "\n",
    "# CI for the prediction at each x value, i.e. the curve itself\n",
    "ax2.plot(xpred.date_num, pred2['mean'],color=\"green\")\n",
    "ax2.plot(xpred.date_num, pred2['mean_ci_lower'], color=\"blue\",linestyle=\"dashed\")\n",
    "ax2.plot(xpred.date_num, pred2['mean_ci_upper'], color=\"blue\",linestyle=\"dashed\")"
   ]
  },
  {
   "cell_type": "code",
   "execution_count": 35,
   "metadata": {},
   "outputs": [
    {
     "data": {
      "text/plain": [
       "[<matplotlib.lines.Line2D at 0x7fcf6f449a00>]"
      ]
     },
     "execution_count": 35,
     "metadata": {},
     "output_type": "execute_result"
    },
    {
     "data": {
      "image/png": "[encoded data removed]",
      "text/plain": [
       "<Figure size 432x288 with 1 Axes>"
      ]
     },
     "metadata": {
      "needs_background": "light"
     },
     "output_type": "display_data"
    }
   ],
   "source": [
    "# Degree 3\n",
    "fit3 = sm.ols(formula=\"price ~ np.vander(date_num, 4, increasing=True) -1\",data=cal_train).fit()\n",
    "xpred = pd.DataFrame({\"date_num\":np.arange(0,365,1)})\n",
    "\n",
    "\n",
    "pred3 = fit3.get_prediction(xpred).summary_frame()\n",
    "ax3 = cal_test.plot.scatter(x='date_num',y='price_mean_by_date',c='Red',title=\"Price data with least-squares fit, degree 3\")\n",
    "ax3.set_xlabel(\"Date (numerical)\")\n",
    "ax3.set_ylabel(\"Price\")\n",
    "\n",
    "\n",
    "# CI for the prediction at each x value, i.e. the curve itself\n",
    "ax3.plot(xpred.date_num, pred3['mean'],color=\"green\")\n",
    "ax3.plot(xpred.date_num, pred3['mean_ci_lower'], color=\"blue\",linestyle=\"dashed\")\n",
    "ax3.plot(xpred.date_num, pred3['mean_ci_upper'], color=\"blue\",linestyle=\"dashed\")"
   ]
  },
  {
   "cell_type": "code",
   "execution_count": 36,
   "metadata": {},
   "outputs": [
    {
     "data": {
      "text/plain": [
       "[<matplotlib.lines.Line2D at 0x7fcf6f18fc70>]"
      ]
     },
     "execution_count": 36,
     "metadata": {},
     "output_type": "execute_result"
    },
    {
     "data": {
      "image/png": "[encoded data removed]",
      "text/plain": [
       "<Figure size 432x288 with 1 Axes>"
      ]
     },
     "metadata": {
      "needs_background": "light"
     },
     "output_type": "display_data"
    }
   ],
   "source": [
    "# Degree 5\n",
    "fit5 = sm.ols(formula=\"price ~ np.vander(date_num, 6, increasing=True) -1\",data=cal_train).fit()\n",
    "xpred = pd.DataFrame({\"date_num\":np.arange(0,365,1)})\n",
    "\n",
    "pred5 = fit5.get_prediction(xpred).summary_frame()\n",
    "ax5 = cal_test.plot.scatter(x='date_num',y='price_mean_by_date',c='Red',title=\"Price data with least-squares fit, degree 5\")\n",
    "ax5.set_xlabel(\"Date (numerical)\")\n",
    "ax5.set_ylabel(\"Price\")\n",
    "\n",
    "# CI for the prediction at each x value, i.e. the curve itself\n",
    "ax5.plot(xpred.date_num, pred5['mean'],color=\"green\")\n",
    "ax5.plot(xpred.date_num, pred5['mean_ci_lower'], color=\"blue\",linestyle=\"dashed\")\n",
    "ax5.plot(xpred.date_num, pred5['mean_ci_upper'], color=\"blue\",linestyle=\"dashed\")"
   ]
  },
  {
   "cell_type": "code",
   "execution_count": 61,
   "metadata": {
    "scrolled": true
   },
   "outputs": [
    {
     "data": {
      "text/plain": [
       "[<matplotlib.lines.Line2D at 0x7fcf596f1e50>]"
      ]
     },
     "execution_count": 61,
     "metadata": {},
     "output_type": "execute_result"
    },
    {
     "data": {
      "image/png": "[encoded data removed]",
      "text/plain": [
       "<Figure size 432x288 with 1 Axes>"
      ]
     },
     "metadata": {
      "needs_background": "light"
     },
     "output_type": "display_data"
    }
   ],
   "source": [
    "# Degree 8\n",
    "fit8 = sm.ols(formula=\"price ~ np.vander(date_num, 9, increasing=True) -1\",data=cal_train).fit()\n",
    "xpred = pd.DataFrame({\"date_num\":np.arange(0,365,1)})\n",
    "\n",
    "pred8 = fit8.get_prediction(xpred).summary_frame()\n",
    "ax8 = cal_test.plot.scatter(x='date_num',y='price_mean_by_date',c='Red',title=\"Price data with least-squares fit, degree 8\")\n",
    "ax8.set_xlabel(\"Date (numerical)\")\n",
    "ax8.set_ylabel(\"Price\")\n",
    "\n",
    "# CI for the prediction at each x value, i.e. the curve itself\n",
    "ax8.plot(xpred.date_num, pred8['mean'],color=\"green\")\n",
    "ax8.plot(xpred.date_num, pred8['mean_ci_lower'], color=\"blue\",linestyle=\"dashed\")\n",
    "ax8.plot(xpred.date_num, pred8['mean_ci_upper'], color=\"blue\",linestyle=\"dashed\")"
   ]
  },
  {
   "cell_type": "code",
   "execution_count": 96,
   "metadata": {
    "scrolled": true
   },
   "outputs": [
    {
     "name": "stdout",
     "output_type": "stream",
     "text": [
      "fit2 intercept: 206.09323870430083\n",
      "fit3 intercept: 297.34625370734074\n",
      "fit5 intercept: 318.0905831358214\n",
      "fit8 intercept: 6.8210933715053355e-09\n",
      "fit2 r^2, test: -0.28302786824935167\n",
      "fit3 r^2, test: -0.7155906345725072\n",
      "fit5 r^2, test: -0.7613669808328638\n",
      "fit8 r^2, test: -4.306160874311416\n"
     ]
    }
   ],
   "source": [
    "# Train r^2 scores\n",
    "print(\"fit2 intercept: \" + str(fit2.params[0]))\n",
    "print(\"fit3 intercept: \" + str(fit3.params[0]))\n",
    "print(\"fit5 intercept: \" + str(fit5.params[0]))\n",
    "print(\"fit8 intercept: \" + str(fit8.params[0]))\n",
    "\n",
    "# Test r^2 scores\n",
    "test_values = cal_test[[\"date_num\", \"price_mean_by_date\"]].dropna(subset=[\"price_mean_by_date\"])\n",
    "x_dates = pd.DataFrame({\"date_num\":test_values[\"date_num\"]})\n",
    "print(\"fit2 r^2, test: \" + str(r2_score(test_values[\"price_smean_by_date\"], fit2.predict(x_dates))))\n",
    "print(\"fit3 r^2, test: \" + str(r2_score(test_values[\"price_mean_by_date\"], fit3.predict(x_dates))))\n",
    "print(\"fit5 r^2, test: \" + str(r2_score(test_values[\"price_mean_by_date\"], fit5.predict(x_dates))))\n",
    "print(\"fit8 r^2, test: \" + str(r2_score(test_values[\"price_mean_by_date\"], fit8.predict(x_dates))))"
   ]
  },
  {
   "cell_type": "markdown",
   "metadata": {
    "deletable": false
   },
   "source": [
    "*$R^2$ scores for the training dataset are 206.1, 297.3, 318.1, and 6.82. $R^2$ scores for the test dataset are -0.283, -0.716, -0.761, and -4.31.*"
   ]
  },
  {
   "cell_type": "markdown",
   "metadata": {
    "autograde": "1.3",
    "deletable": false,
    "editable": false
   },
   "source": [
    "**1.3.2** You should see that the degree 8 polynomial's predictions are awful- either nonsensically near zero [or far too large] at many input values. This isn't just simple overfitting. What is going wrong in this model, and how might it be addressed?\n"
   ]
  },
  {
   "cell_type": "markdown",
   "metadata": {
    "deletable": false
   },
   "source": [
    "*In this model, we have numerical instability in fitting the model to the data, which leads to the nonsensical predictions. To address this problem, we might try to use a basis of polynomials that are uncorrelated on the data (such as an orthogonal polynomial basis).*"
   ]
  },
  {
   "cell_type": "markdown",
   "metadata": {
    "autograde": "1.3",
    "deletable": false,
    "editable": false
   },
   "source": [
    "**1.3.3** Fit a penalized B-spline using `pygam` with the smoothness parameter chosen by cross-validation on the training set.  Again, provide the train and test scores of the best-performing model and plot its predictions.\n"
   ]
  },
  {
   "cell_type": "code",
   "execution_count": 135,
   "metadata": {},
   "outputs": [
    {
     "data": {
      "text/plain": [
       "listing_id                     int64\n",
       "date                  datetime64[ns]\n",
       "available                     object\n",
       "price                        float64\n",
       "month                          int64\n",
       "weekday                        int64\n",
       "date_num                       int64\n",
       "price_mean_by_date           float64\n",
       "dtype: object"
      ]
     },
     "execution_count": 135,
     "metadata": {},
     "output_type": "execute_result"
    }
   ],
   "source": [
    "cal_train.dtypes"
   ]
  },
  {
   "cell_type": "code",
   "execution_count": 140,
   "metadata": {
    "deletable": false
   },
   "outputs": [
    {
     "name": "stderr",
     "output_type": "stream",
     "text": [
      "100% (11 of 11) |########################| Elapsed Time: 0:00:14 Time:  0:00:14\n"
     ]
    },
    {
     "name": "stdout",
     "output_type": "stream",
     "text": [
      "LinearGAM                                                                                                 \n",
      "=============================================== ==========================================================\n",
      "Distribution:                        NormalDist Effective DoF:                                     19.5937\n",
      "Link Function:                     IdentityLink Log Likelihood:                              -3510882.9889\n",
      "Number of Samples:                       309288 AIC:                                          7021807.1651\n",
      "                                                AICc:                                          7021807.168\n",
      "                                                GCV:                                            33950.5906\n",
      "                                                Scale:                                          33946.7192\n",
      "                                                Pseudo R-Squared:                                    0.045\n",
      "==========================================================================================================\n",
      "Feature Function                  Lambda               Rank         EDoF         P > x        Sig. Code   \n",
      "================================= ==================== ============ ============ ============ ============\n",
      "s(0)                              [1.]                 20           19.6         1.11e-16     ***         \n",
      "intercept                                              1            0.0          1.11e-16     ***         \n",
      "==========================================================================================================\n",
      "Significance codes:  0 '***' 0.001 '**' 0.01 '*' 0.05 '.' 0.1 ' ' 1\n",
      "\n",
      "WARNING: Fitting splines and a linear function to a feature introduces a model identifiability problem\n",
      "         which can cause p-values to appear significant when they are not.\n",
      "\n",
      "WARNING: p-values calculated in this manner behave correctly for un-penalized models or models with\n",
      "         known smoothing parameters, but when smoothing parameters have been estimated, the p-values\n",
      "         are typically lower than they should be, meaning that the tests reject the null too readily.\n"
     ]
    },
    {
     "name": "stderr",
     "output_type": "stream",
     "text": [
      "<ipython-input-140-954033b8b65c>:8: UserWarning: KNOWN BUG: p-values computed in this summary are likely much smaller than they should be. \n",
      " \n",
      "Please do not make inferences based on these values! \n",
      "\n",
      "Collaborate on a solution, and stay up to date at: \n",
      "github.com/dswah/pyGAM/issues/163 \n",
      "\n",
      "  gam.summary()\n"
     ]
    }
   ],
   "source": [
    "# your code here\n",
    "from pygam import LinearGAM, s, f\n",
    "\n",
    "x, y = cal_train[\"date_num\"], cal_train[\"price\"]\n",
    "\n",
    "gam = LinearGAM(s(0)).fit(x,y)\n",
    "gam.gridsearch(x, y)\n",
    "gam.summary()"
   ]
  },
  {
   "cell_type": "code",
   "execution_count": 141,
   "metadata": {},
   "outputs": [
    {
     "data": {
      "image/png": "[encoded data removed]",
      "text/plain": [
       "<Figure size 432x288 with 1 Axes>"
      ]
     },
     "metadata": {
      "needs_background": "light"
     },
     "output_type": "display_data"
    }
   ],
   "source": [
    "XX = gam.generate_X_grid(term=0)\n",
    "plt.scatter(x,cal_train[\"price_mean_by_date\"],alpha=0.3);\n",
    "plt.plot(XX, gam.predict(XX));"
   ]
  },
  {
   "cell_type": "code",
   "execution_count": null,
   "metadata": {},
   "outputs": [],
   "source": []
  },
  {
   "cell_type": "code",
   "execution_count": null,
   "metadata": {},
   "outputs": [],
   "source": []
  },
  {
   "cell_type": "markdown",
   "metadata": {
    "autograde": "1.3",
    "deletable": false,
    "editable": false
   },
   "source": [
    "**1.3.4** Of the models, which performs the best? What is the effect of the tuning parameters (degree and smoothness penalty)?\n"
   ]
  },
  {
   "cell_type": "markdown",
   "metadata": {
    "deletable": false
   },
   "source": [
    "*Your answer here*"
   ]
  },
  {
   "cell_type": "markdown",
   "metadata": {
    "autograde": "1.4",
    "deletable": false,
    "editable": false
   },
   "source": [
    "**1.4** It is possible/likely that prices on weekends (Friday nights and Saturday nights) are systematically higher than prices on weekdays, and that including this aspect of the data-generating process in our model will produce a better fit. Create a binary indicator of weekend versus non-weekend, and include it in your additive model based on `pygam`.  How does it impact the model's performance?\n",
    "\n",
    "*Hint*: include a categorical variable in a GAM by importing and using `pygam.f` in the same way you've used `pygam.s` for continuous variables.\n",
    "\n"
   ]
  },
  {
   "cell_type": "code",
   "execution_count": 142,
   "metadata": {
    "deletable": false
   },
   "outputs": [
    {
     "name": "stderr",
     "output_type": "stream",
     "text": [
      "100% (11 of 11) |########################| Elapsed Time: 0:00:16 Time:  0:00:16\n"
     ]
    },
    {
     "name": "stdout",
     "output_type": "stream",
     "text": [
      "LinearGAM                                                                                                 \n",
      "=============================================== ==========================================================\n",
      "Distribution:                        NormalDist Effective DoF:                                     20.5935\n",
      "Link Function:                     IdentityLink Log Likelihood:                              -3510793.9122\n",
      "Number of Samples:                       309288 AIC:                                          7021631.0115\n",
      "                                                AICc:                                         7021631.0147\n",
      "                                                GCV:                                            33941.0205\n",
      "                                                Scale:                                          33936.9527\n",
      "                                                Pseudo R-Squared:                                   0.0452\n",
      "==========================================================================================================\n",
      "Feature Function                  Lambda               Rank         EDoF         P > x        Sig. Code   \n",
      "================================= ==================== ============ ============ ============ ============\n",
      "s(0)                              [1.]                 20           19.6         1.11e-16     ***         \n",
      "f(1)                              [1.]                 2            1.0          1.11e-16     ***         \n",
      "intercept                                              1            0.0          1.11e-16     ***         \n",
      "==========================================================================================================\n",
      "Significance codes:  0 '***' 0.001 '**' 0.01 '*' 0.05 '.' 0.1 ' ' 1\n",
      "\n",
      "WARNING: Fitting splines and a linear function to a feature introduces a model identifiability problem\n",
      "         which can cause p-values to appear significant when they are not.\n",
      "\n",
      "WARNING: p-values calculated in this manner behave correctly for un-penalized models or models with\n",
      "         known smoothing parameters, but when smoothing parameters have been estimated, the p-values\n",
      "         are typically lower than they should be, meaning that the tests reject the null too readily.\n"
     ]
    },
    {
     "name": "stderr",
     "output_type": "stream",
     "text": [
      "<ipython-input-142-eeaaf716e219>:9: UserWarning: KNOWN BUG: p-values computed in this summary are likely much smaller than they should be. \n",
      " \n",
      "Please do not make inferences based on these values! \n",
      "\n",
      "Collaborate on a solution, and stay up to date at: \n",
      "github.com/dswah/pyGAM/issues/163 \n",
      "\n",
      "  gam2.summary()\n"
     ]
    }
   ],
   "source": [
    "# Date values 5, 6 are Saturday and Sunday, respectively\n",
    "cal_train[\"is_wknd\"] = (cal_train[\"weekday\"] > 4).astype(int)\n",
    "cal_train.head()\n",
    "\n",
    "x2, y2 = cal_train[[\"date_num\", \"is_wknd\"]], cal_train[\"price\"]\n",
    "\n",
    "gam2 = LinearGAM(s(0) + f(1)).fit(x2,y2)\n",
    "gam2.gridsearch(x2, y2)\n",
    "gam2.summary()"
   ]
  },
  {
   "cell_type": "code",
   "execution_count": 147,
   "metadata": {},
   "outputs": [
    {
     "ename": "ValueError",
     "evalue": "X data must have 1 features, but found 2",
     "output_type": "error",
     "traceback": [
      "\u001b[0;31m--------------------------------------------------------------------\u001b[0m",
      "\u001b[0;31mValueError\u001b[0m                         Traceback (most recent call last)",
      "\u001b[0;32m<ipython-input-147-0a5f05fe5a5b>\u001b[0m in \u001b[0;36m<module>\u001b[0;34m\u001b[0m\n\u001b[1;32m      1\u001b[0m \u001b[0mXX2\u001b[0m \u001b[0;34m=\u001b[0m \u001b[0mgam2\u001b[0m\u001b[0;34m.\u001b[0m\u001b[0mgenerate_X_grid\u001b[0m\u001b[0;34m(\u001b[0m\u001b[0mterm\u001b[0m\u001b[0;34m=\u001b[0m\u001b[0;36m0\u001b[0m\u001b[0;34m)\u001b[0m\u001b[0;34m\u001b[0m\u001b[0;34m\u001b[0m\u001b[0m\n\u001b[1;32m      2\u001b[0m \u001b[0mplt\u001b[0m\u001b[0;34m.\u001b[0m\u001b[0mscatter\u001b[0m\u001b[0;34m(\u001b[0m\u001b[0mx2\u001b[0m\u001b[0;34m[\u001b[0m\u001b[0;34m\"date_num\"\u001b[0m\u001b[0;34m]\u001b[0m\u001b[0;34m,\u001b[0m\u001b[0mcal_train\u001b[0m\u001b[0;34m[\u001b[0m\u001b[0;34m\"price_mean_by_date\"\u001b[0m\u001b[0;34m]\u001b[0m\u001b[0;34m,\u001b[0m\u001b[0malpha\u001b[0m\u001b[0;34m=\u001b[0m\u001b[0;36m0.3\u001b[0m\u001b[0;34m)\u001b[0m\u001b[0;34m;\u001b[0m\u001b[0;34m\u001b[0m\u001b[0;34m\u001b[0m\u001b[0m\n\u001b[0;32m----> 3\u001b[0;31m \u001b[0mplt\u001b[0m\u001b[0;34m.\u001b[0m\u001b[0mplot\u001b[0m\u001b[0;34m(\u001b[0m\u001b[0mXX2\u001b[0m\u001b[0;34m,\u001b[0m \u001b[0mgam\u001b[0m\u001b[0;34m.\u001b[0m\u001b[0mpredict\u001b[0m\u001b[0;34m(\u001b[0m\u001b[0mXX2\u001b[0m\u001b[0;34m)\u001b[0m\u001b[0;34m)\u001b[0m\u001b[0;34m;\u001b[0m\u001b[0;34m\u001b[0m\u001b[0;34m\u001b[0m\u001b[0m\n\u001b[0m",
      "\u001b[0;32m~/miniconda/envs/cs109/lib/python3.8/site-packages/pygam/pygam.py\u001b[0m in \u001b[0;36mpredict\u001b[0;34m(self, X)\u001b[0m\n\u001b[1;32m    432\u001b[0m             \u001b[0mcontaining\u001b[0m \u001b[0mpredicted\u001b[0m \u001b[0mvalues\u001b[0m \u001b[0munder\u001b[0m \u001b[0mthe\u001b[0m \u001b[0mmodel\u001b[0m\u001b[0;34m\u001b[0m\u001b[0;34m\u001b[0m\u001b[0m\n\u001b[1;32m    433\u001b[0m         \"\"\"\n\u001b[0;32m--> 434\u001b[0;31m         \u001b[0;32mreturn\u001b[0m \u001b[0mself\u001b[0m\u001b[0;34m.\u001b[0m\u001b[0mpredict_mu\u001b[0m\u001b[0;34m(\u001b[0m\u001b[0mX\u001b[0m\u001b[0;34m)\u001b[0m\u001b[0;34m\u001b[0m\u001b[0;34m\u001b[0m\u001b[0m\n\u001b[0m\u001b[1;32m    435\u001b[0m \u001b[0;34m\u001b[0m\u001b[0m\n\u001b[1;32m    436\u001b[0m     \u001b[0;32mdef\u001b[0m \u001b[0m_modelmat\u001b[0m\u001b[0;34m(\u001b[0m\u001b[0mself\u001b[0m\u001b[0;34m,\u001b[0m \u001b[0mX\u001b[0m\u001b[0;34m,\u001b[0m \u001b[0mterm\u001b[0m\u001b[0;34m=\u001b[0m\u001b[0;34m-\u001b[0m\u001b[0;36m1\u001b[0m\u001b[0;34m)\u001b[0m\u001b[0;34m:\u001b[0m\u001b[0;34m\u001b[0m\u001b[0;34m\u001b[0m\u001b[0m\n",
      "\u001b[0;32m~/miniconda/envs/cs109/lib/python3.8/site-packages/pygam/pygam.py\u001b[0m in \u001b[0;36mpredict_mu\u001b[0;34m(self, X)\u001b[0m\n\u001b[1;32m    410\u001b[0m             \u001b[0;32mraise\u001b[0m \u001b[0mAttributeError\u001b[0m\u001b[0;34m(\u001b[0m\u001b[0;34m'GAM has not been fitted. Call fit first.'\u001b[0m\u001b[0;34m)\u001b[0m\u001b[0;34m\u001b[0m\u001b[0;34m\u001b[0m\u001b[0m\n\u001b[1;32m    411\u001b[0m \u001b[0;34m\u001b[0m\u001b[0m\n\u001b[0;32m--> 412\u001b[0;31m         X = check_X(X, n_feats=self.statistics_['m_features'],\n\u001b[0m\u001b[1;32m    413\u001b[0m                     \u001b[0medge_knots\u001b[0m\u001b[0;34m=\u001b[0m\u001b[0mself\u001b[0m\u001b[0;34m.\u001b[0m\u001b[0medge_knots_\u001b[0m\u001b[0;34m,\u001b[0m \u001b[0mdtypes\u001b[0m\u001b[0;34m=\u001b[0m\u001b[0mself\u001b[0m\u001b[0;34m.\u001b[0m\u001b[0mdtype\u001b[0m\u001b[0;34m,\u001b[0m\u001b[0;34m\u001b[0m\u001b[0;34m\u001b[0m\u001b[0m\n\u001b[1;32m    414\u001b[0m                     features=self.feature, verbose=self.verbose)\n",
      "\u001b[0;32m~/miniconda/envs/cs109/lib/python3.8/site-packages/pygam/utils.py\u001b[0m in \u001b[0;36mcheck_X\u001b[0;34m(X, n_feats, min_samples, edge_knots, dtypes, features, verbose)\u001b[0m\n\u001b[1;32m    270\u001b[0m \u001b[0;34m\u001b[0m\u001b[0m\n\u001b[1;32m    271\u001b[0m     \u001b[0;31m# basic diagnostics\u001b[0m\u001b[0;34m\u001b[0m\u001b[0;34m\u001b[0m\u001b[0;34m\u001b[0m\u001b[0m\n\u001b[0;32m--> 272\u001b[0;31m     X = check_array(X, force_2d=True, n_feats=n_feats, min_samples=min_samples,\n\u001b[0m\u001b[1;32m    273\u001b[0m                     name='X data', verbose=verbose)\n\u001b[1;32m    274\u001b[0m \u001b[0;34m\u001b[0m\u001b[0m\n",
      "\u001b[0;32m~/miniconda/envs/cs109/lib/python3.8/site-packages/pygam/utils.py\u001b[0m in \u001b[0;36mcheck_array\u001b[0;34m(array, force_2d, n_feats, ndim, min_samples, name, verbose)\u001b[0m\n\u001b[1;32m    181\u001b[0m         \u001b[0mm\u001b[0m \u001b[0;34m=\u001b[0m \u001b[0marray\u001b[0m\u001b[0;34m.\u001b[0m\u001b[0mshape\u001b[0m\u001b[0;34m[\u001b[0m\u001b[0;36m1\u001b[0m\u001b[0;34m]\u001b[0m\u001b[0;34m\u001b[0m\u001b[0;34m\u001b[0m\u001b[0m\n\u001b[1;32m    182\u001b[0m         \u001b[0;32mif\u001b[0m \u001b[0mm\u001b[0m \u001b[0;34m!=\u001b[0m \u001b[0mn_feats\u001b[0m\u001b[0;34m:\u001b[0m\u001b[0;34m\u001b[0m\u001b[0;34m\u001b[0m\u001b[0m\n\u001b[0;32m--> 183\u001b[0;31m            raise ValueError('{} must have {} features, '\\\n\u001b[0m\u001b[1;32m    184\u001b[0m                             'but found {}'.format(name, n_feats, m))\n\u001b[1;32m    185\u001b[0m \u001b[0;34m\u001b[0m\u001b[0m\n",
      "\u001b[0;31mValueError\u001b[0m: X data must have 1 features, but found 2"
     ]
    },
    {
     "data": {
      "image/png": "[encoded data removed]",
      "text/plain": [
       "<Figure size 432x288 with 1 Axes>"
      ]
     },
     "metadata": {
      "needs_background": "light"
     },
     "output_type": "display_data"
    }
   ],
   "source": [
    "titles = ['year', 'age', 'education']\n",
    "for i, ax in enumerate(axs):\n",
    "    XX = gam.generate_X_grid(term=i)\n",
    "    ax.plot(XX[:, i], gam.partial_dependence(term=i, X=XX))\n",
    "    ax.plot(XX[:, i], gam.partial_dependence(term=i, X=XX, width=.95)[1], c='r', ls='--')\n",
    "    if i == 0:\n",
    "        ax.set_ylim(-30,30)\n",
    "    ax.set_title(titles[i]);\n",
    "\n",
    "XX2 = gam2.generate_X_grid(term=0)\n",
    "plt.scatter(x2[\"date_num\"],cal_train[\"price_mean_by_date\"],alpha=0.3);\n",
    "plt.plot(XX2, gam.predict(XX2));"
   ]
  },
  {
   "cell_type": "markdown",
   "metadata": {
    "deletable": false
   },
   "source": [
    "*Your answer here*"
   ]
  },
  {
   "cell_type": "markdown",
   "metadata": {
    "autograde": "1.5",
    "deletable": false,
    "editable": false
   },
   "source": [
    "**1.5** You may have noticed from your scatterplots of average price versus day on the training set that there are a few days with abnormally high average prices. Sort the training data in decreasing order of average price, extracting the 10 most expensive dates. Why are the prices on these days so high? Is it something about the days themselves, noise, an artifact of data collection, or something else?"
   ]
  },
  {
   "cell_type": "code",
   "execution_count": 83,
   "metadata": {
    "deletable": false
   },
   "outputs": [
    {
     "data": {
      "text/html": [
       "<div>\n",
       "<style scoped>\n",
       "    .dataframe tbody tr th:only-of-type {\n",
       "        vertical-align: middle;\n",
       "    }\n",
       "\n",
       "    .dataframe tbody tr th {\n",
       "        vertical-align: top;\n",
       "    }\n",
       "\n",
       "    .dataframe thead th {\n",
       "        text-align: right;\n",
       "    }\n",
       "</style>\n",
       "<table border=\"1\" class=\"dataframe\">\n",
       "  <thead>\n",
       "    <tr style=\"text-align: right;\">\n",
       "      <th></th>\n",
       "      <th>listing_id</th>\n",
       "      <th>date</th>\n",
       "      <th>available</th>\n",
       "      <th>price</th>\n",
       "      <th>month</th>\n",
       "      <th>weekday</th>\n",
       "      <th>date_num</th>\n",
       "      <th>price_mean_by_date</th>\n",
       "      <th>is_wknd</th>\n",
       "    </tr>\n",
       "  </thead>\n",
       "  <tbody>\n",
       "    <tr>\n",
       "      <th>190</th>\n",
       "      <td>20872145</td>\n",
       "      <td>2018-01-10</td>\n",
       "      <td>t</td>\n",
       "      <td>45.0</td>\n",
       "      <td>1</td>\n",
       "      <td>2</td>\n",
       "      <td>96</td>\n",
       "      <td>432.680761</td>\n",
       "      <td>0</td>\n",
       "    </tr>\n",
       "    <tr>\n",
       "      <th>192</th>\n",
       "      <td>20872145</td>\n",
       "      <td>2018-01-06</td>\n",
       "      <td>t</td>\n",
       "      <td>45.0</td>\n",
       "      <td>1</td>\n",
       "      <td>5</td>\n",
       "      <td>92</td>\n",
       "      <td>425.289528</td>\n",
       "      <td>1</td>\n",
       "    </tr>\n",
       "    <tr>\n",
       "      <th>191</th>\n",
       "      <td>20872145</td>\n",
       "      <td>2018-01-09</td>\n",
       "      <td>t</td>\n",
       "      <td>45.0</td>\n",
       "      <td>1</td>\n",
       "      <td>1</td>\n",
       "      <td>95</td>\n",
       "      <td>417.170404</td>\n",
       "      <td>0</td>\n",
       "    </tr>\n",
       "    <tr>\n",
       "      <th>189</th>\n",
       "      <td>20872145</td>\n",
       "      <td>2018-01-11</td>\n",
       "      <td>t</td>\n",
       "      <td>45.0</td>\n",
       "      <td>1</td>\n",
       "      <td>3</td>\n",
       "      <td>97</td>\n",
       "      <td>393.609047</td>\n",
       "      <td>0</td>\n",
       "    </tr>\n",
       "    <tr>\n",
       "      <th>193</th>\n",
       "      <td>20872145</td>\n",
       "      <td>2018-01-05</td>\n",
       "      <td>t</td>\n",
       "      <td>45.0</td>\n",
       "      <td>1</td>\n",
       "      <td>4</td>\n",
       "      <td>91</td>\n",
       "      <td>369.371060</td>\n",
       "      <td>0</td>\n",
       "    </tr>\n",
       "    <tr>\n",
       "      <th>188</th>\n",
       "      <td>20872145</td>\n",
       "      <td>2018-01-12</td>\n",
       "      <td>t</td>\n",
       "      <td>45.0</td>\n",
       "      <td>1</td>\n",
       "      <td>4</td>\n",
       "      <td>98</td>\n",
       "      <td>350.314592</td>\n",
       "      <td>0</td>\n",
       "    </tr>\n",
       "    <tr>\n",
       "      <th>218</th>\n",
       "      <td>20872145</td>\n",
       "      <td>2017-12-01</td>\n",
       "      <td>t</td>\n",
       "      <td>45.0</td>\n",
       "      <td>12</td>\n",
       "      <td>4</td>\n",
       "      <td>56</td>\n",
       "      <td>325.127438</td>\n",
       "      <td>0</td>\n",
       "    </tr>\n",
       "    <tr>\n",
       "      <th>217</th>\n",
       "      <td>20872145</td>\n",
       "      <td>2017-12-02</td>\n",
       "      <td>t</td>\n",
       "      <td>45.0</td>\n",
       "      <td>12</td>\n",
       "      <td>5</td>\n",
       "      <td>57</td>\n",
       "      <td>317.966262</td>\n",
       "      <td>1</td>\n",
       "    </tr>\n",
       "    <tr>\n",
       "      <th>227</th>\n",
       "      <td>20872145</td>\n",
       "      <td>2017-11-20</td>\n",
       "      <td>t</td>\n",
       "      <td>45.0</td>\n",
       "      <td>11</td>\n",
       "      <td>0</td>\n",
       "      <td>45</td>\n",
       "      <td>316.068871</td>\n",
       "      <td>0</td>\n",
       "    </tr>\n",
       "    <tr>\n",
       "      <th>224</th>\n",
       "      <td>20872145</td>\n",
       "      <td>2017-11-23</td>\n",
       "      <td>t</td>\n",
       "      <td>45.0</td>\n",
       "      <td>11</td>\n",
       "      <td>3</td>\n",
       "      <td>48</td>\n",
       "      <td>313.594595</td>\n",
       "      <td>0</td>\n",
       "    </tr>\n",
       "  </tbody>\n",
       "</table>\n",
       "</div>"
      ],
      "text/plain": [
       "     listing_id       date available  price  month  weekday  date_num  \\\n",
       "190    20872145 2018-01-10         t   45.0      1        2        96   \n",
       "192    20872145 2018-01-06         t   45.0      1        5        92   \n",
       "191    20872145 2018-01-09         t   45.0      1        1        95   \n",
       "189    20872145 2018-01-11         t   45.0      1        3        97   \n",
       "193    20872145 2018-01-05         t   45.0      1        4        91   \n",
       "188    20872145 2018-01-12         t   45.0      1        4        98   \n",
       "218    20872145 2017-12-01         t   45.0     12        4        56   \n",
       "217    20872145 2017-12-02         t   45.0     12        5        57   \n",
       "227    20872145 2017-11-20         t   45.0     11        0        45   \n",
       "224    20872145 2017-11-23         t   45.0     11        3        48   \n",
       "\n",
       "     price_mean_by_date  is_wknd  \n",
       "190          432.680761        0  \n",
       "192          425.289528        1  \n",
       "191          417.170404        0  \n",
       "189          393.609047        0  \n",
       "193          369.371060        0  \n",
       "188          350.314592        0  \n",
       "218          325.127438        0  \n",
       "217          317.966262        1  \n",
       "227          316.068871        0  \n",
       "224          313.594595        0  "
      ]
     },
     "execution_count": 83,
     "metadata": {},
     "output_type": "execute_result"
    }
   ],
   "source": [
    "# your code here\n",
    "cal_train.sort_values(by=\"price_mean_by_date\", ascending=False)[:10]"
   ]
  },
  {
   "cell_type": "markdown",
   "metadata": {
    "deletable": false
   },
   "source": [
    "*All of the top 10 most expensive dates take place within a fairly short time frame, at the end of November 2017, beginning of December 2018, and beginning-mid January 2018, with the highest prices occurring in beginning to mid January 2018. This may potentially be due to a major event occuring on these days in mid-January.*"
   ]
  },
  {
   "cell_type": "markdown",
   "metadata": {
    "deletable": false,
    "editable": false
   },
   "source": [
    "<div class='exercise'><b> Question 2 [50 pts]: Predicting Airbnb Rental Price Through Listing Features </b></div>\n",
    "\n",
    "In this problem, we'll continue our exploration of Airbnb data by predicting price based on listing features. The data can be found in `listings_train.csv` and `listings_test.csv`.\n",
    "\n",
    "**2.1** First, visualize the relationship between each of the predictors and the response variable. Does it appear that some of the predictors have a nonlinear relationship with the response variable?\n",
    "\n",
    "\n",
    "**2.2** Fit the following models on the training set and compare the $R^2$ score of the fitted models on the test set:\n",
    "* Linear regression\n",
    "* Regression with polynomial basis functions of degree 3 (i.e. basis functions $x, x^2, x^3$ for each predictor $x$) for quantitative predictors.\n",
    "\n",
    "**2.3** Do you expect any advantage in fitting an additive model to these data, compared to the above models?\n",
    "\n",
    "**2.4** Fit an additive model using the `pygam` library to the training set, and compare the test $R^2$ of the fitted model to the above models. You may use a penalized B-spline basis function on each predictor, tuned using cross-validation on the training set.\n",
    "\n",
    "**2.5** Plot and examine the smooth of each predictor for the fitted additive model. What are some useful insights conveyed by these plots?\n",
    "\n",
    "**2.6** Using the outputs and insights from part 1), discuss the most important variables in the driving prices, and give advide to a frugal traveller hoping to visit Boston."
   ]
  },
  {
   "cell_type": "markdown",
   "metadata": {
    "autograde": "2.1",
    "deletable": false,
    "editable": false
   },
   "source": [
    "**2.1** First, visualize the relationship between each of the predictors and the response variable. Does it appear that some of the predictors have a nonlinear relationship with the response variable?\n",
    "\n"
   ]
  },
  {
   "cell_type": "code",
   "execution_count": 87,
   "metadata": {
    "deletable": false
   },
   "outputs": [
    {
     "data": {
      "text/html": [
       "<div>\n",
       "<style scoped>\n",
       "    .dataframe tbody tr th:only-of-type {\n",
       "        vertical-align: middle;\n",
       "    }\n",
       "\n",
       "    .dataframe tbody tr th {\n",
       "        vertical-align: top;\n",
       "    }\n",
       "\n",
       "    .dataframe thead th {\n",
       "        text-align: right;\n",
       "    }\n",
       "</style>\n",
       "<table border=\"1\" class=\"dataframe\">\n",
       "  <thead>\n",
       "    <tr style=\"text-align: right;\">\n",
       "      <th></th>\n",
       "      <th>host_total_listings_count</th>\n",
       "      <th>room_type</th>\n",
       "      <th>latitude</th>\n",
       "      <th>longitude</th>\n",
       "      <th>bathrooms</th>\n",
       "      <th>bedrooms</th>\n",
       "      <th>beds</th>\n",
       "      <th>price</th>\n",
       "      <th>security_deposit</th>\n",
       "      <th>cleaning_fee</th>\n",
       "      <th>availability_365</th>\n",
       "      <th>number_of_reviews</th>\n",
       "    </tr>\n",
       "  </thead>\n",
       "  <tbody>\n",
       "    <tr>\n",
       "      <th>0</th>\n",
       "      <td>1</td>\n",
       "      <td>Private room</td>\n",
       "      <td>42.347956</td>\n",
       "      <td>-71.155196</td>\n",
       "      <td>1.0</td>\n",
       "      <td>1</td>\n",
       "      <td>1</td>\n",
       "      <td>52</td>\n",
       "      <td>1</td>\n",
       "      <td>65</td>\n",
       "      <td>365</td>\n",
       "      <td>26</td>\n",
       "    </tr>\n",
       "    <tr>\n",
       "      <th>1</th>\n",
       "      <td>85</td>\n",
       "      <td>Entire home/apt</td>\n",
       "      <td>42.349299</td>\n",
       "      <td>-71.083470</td>\n",
       "      <td>1.0</td>\n",
       "      <td>0</td>\n",
       "      <td>1</td>\n",
       "      <td>110</td>\n",
       "      <td>1</td>\n",
       "      <td>104</td>\n",
       "      <td>107</td>\n",
       "      <td>38</td>\n",
       "    </tr>\n",
       "    <tr>\n",
       "      <th>2</th>\n",
       "      <td>6</td>\n",
       "      <td>Entire home/apt</td>\n",
       "      <td>42.341902</td>\n",
       "      <td>-71.073792</td>\n",
       "      <td>1.0</td>\n",
       "      <td>1</td>\n",
       "      <td>1</td>\n",
       "      <td>67</td>\n",
       "      <td>45</td>\n",
       "      <td>56</td>\n",
       "      <td>322</td>\n",
       "      <td>9</td>\n",
       "    </tr>\n",
       "    <tr>\n",
       "      <th>3</th>\n",
       "      <td>1</td>\n",
       "      <td>Entire home/apt</td>\n",
       "      <td>42.319235</td>\n",
       "      <td>-71.105016</td>\n",
       "      <td>2.0</td>\n",
       "      <td>2</td>\n",
       "      <td>2</td>\n",
       "      <td>103</td>\n",
       "      <td>8</td>\n",
       "      <td>113</td>\n",
       "      <td>341</td>\n",
       "      <td>49</td>\n",
       "    </tr>\n",
       "    <tr>\n",
       "      <th>4</th>\n",
       "      <td>1</td>\n",
       "      <td>Entire home/apt</td>\n",
       "      <td>42.346452</td>\n",
       "      <td>-71.134896</td>\n",
       "      <td>1.0</td>\n",
       "      <td>0</td>\n",
       "      <td>1</td>\n",
       "      <td>8</td>\n",
       "      <td>24</td>\n",
       "      <td>82</td>\n",
       "      <td>41</td>\n",
       "      <td>13</td>\n",
       "    </tr>\n",
       "  </tbody>\n",
       "</table>\n",
       "</div>"
      ],
      "text/plain": [
       "   host_total_listings_count        room_type   latitude  longitude  \\\n",
       "0                          1     Private room  42.347956 -71.155196   \n",
       "1                         85  Entire home/apt  42.349299 -71.083470   \n",
       "2                          6  Entire home/apt  42.341902 -71.073792   \n",
       "3                          1  Entire home/apt  42.319235 -71.105016   \n",
       "4                          1  Entire home/apt  42.346452 -71.134896   \n",
       "\n",
       "   bathrooms  bedrooms  beds  price  security_deposit  cleaning_fee  \\\n",
       "0        1.0         1     1     52                 1            65   \n",
       "1        1.0         0     1    110                 1           104   \n",
       "2        1.0         1     1     67                45            56   \n",
       "3        2.0         2     2    103                 8           113   \n",
       "4        1.0         0     1      8                24            82   \n",
       "\n",
       "   availability_365  number_of_reviews  \n",
       "0               365                 26  \n",
       "1               107                 38  \n",
       "2               322                  9  \n",
       "3               341                 49  \n",
       "4                41                 13  "
      ]
     },
     "execution_count": 87,
     "metadata": {},
     "output_type": "execute_result"
    }
   ],
   "source": [
    "# your code here\n",
    "list_train = pd.read_csv(\"data/listings_train.csv\").dropna(subset=[\"price\"])\n",
    "list_test = pd.read_csv(\"data/listings_test.csv\").dropna(subset=[\"price\"])\n",
    "list_train.head()"
   ]
  },
  {
   "cell_type": "code",
   "execution_count": null,
   "metadata": {},
   "outputs": [],
   "source": [
    "def plt_fn(x, y, x_label, y_label):\n",
    "    plt.scatter(x,y,facecolors='none', edgecolors='black')\n",
    "    plt.title(x_label + \" and price\")\n",
    "    plt.xlabel(x_label)\n",
    "    plt.ylabel(y_label)\n",
    "    plt.show()"
   ]
  },
  {
   "cell_type": "code",
   "execution_count": null,
   "metadata": {},
   "outputs": [],
   "source": [
    "predictors = [item for item in list_train.columns if item != \"price\"]\n",
    "for p in predictors:\n",
    "    plt_fn(list_train[p], list_train[\"price\"], p, \"price\")"
   ]
  },
  {
   "cell_type": "markdown",
   "metadata": {
    "deletable": false
   },
   "source": [
    "*When visualizing the relationship betwen each of the predictors and price, we either see a slightly linear relationship or no apparent relationship. It does not appear that any of the predictors have a nonlinear relationship with the response variable of price.*"
   ]
  },
  {
   "cell_type": "markdown",
   "metadata": {
    "autograde": "2.2",
    "deletable": false,
    "editable": false
   },
   "source": [
    "**2.2** Fit the following models on the training set and compare the $R^2$ score of the fitted models on the test set:\n",
    "* Linear regression\n",
    "* Regression with polynomial basis functions of degree 3 (i.e. basis functions $x, x^2, x^3$ for each predictor $x$) for quantitative predictors.\n"
   ]
  },
  {
   "cell_type": "code",
   "execution_count": null,
   "metadata": {
    "deletable": false
   },
   "outputs": [],
   "source": [
    "# your code here\n"
   ]
  },
  {
   "cell_type": "markdown",
   "metadata": {
    "deletable": false
   },
   "source": [
    "*Your answer here*"
   ]
  },
  {
   "cell_type": "markdown",
   "metadata": {
    "autograde": "2.3",
    "deletable": false,
    "editable": false
   },
   "source": [
    "**2.3** Do you expect any advantage in fitting an additive model to these data, compared to the above models?\n"
   ]
  },
  {
   "cell_type": "markdown",
   "metadata": {
    "deletable": false
   },
   "source": [
    "*Yes, I would expect to have an advantage in fitting an additive model, since the additive model would be able to incorporate all of the features (both categorical and quantitative).*"
   ]
  },
  {
   "cell_type": "markdown",
   "metadata": {
    "autograde": "2.4",
    "deletable": false,
    "editable": false
   },
   "source": [
    "**2.4** Fit an additive model using the `pygam` library to the training set, and compare the test $R^2$ of the fitted model to the above models. You may use a penalized B-spline basis function on each predictor, tuned using cross-validation on the training set.\n"
   ]
  },
  {
   "cell_type": "code",
   "execution_count": null,
   "metadata": {
    "deletable": false
   },
   "outputs": [],
   "source": [
    "# your code here\n"
   ]
  },
  {
   "cell_type": "markdown",
   "metadata": {
    "autograde": "2.5",
    "deletable": false,
    "editable": false
   },
   "source": [
    "**2.5** Plot and examine the smooth of each predictor for the fitted additive model. What are some useful insights conveyed by these plots?\n"
   ]
  },
  {
   "cell_type": "code",
   "execution_count": null,
   "metadata": {
    "deletable": false
   },
   "outputs": [],
   "source": [
    "# your code here\n"
   ]
  },
  {
   "cell_type": "markdown",
   "metadata": {
    "deletable": false
   },
   "source": [
    "*Your answer here*"
   ]
  },
  {
   "cell_type": "markdown",
   "metadata": {
    "autograde": "2.6",
    "deletable": false,
    "editable": false
   },
   "source": [
    "**2.6** Using the outputs and insights from part 1), discuss the most important variables in the driving prices, and give advide to a frugal traveller hoping to visit Boston."
   ]
  },
  {
   "cell_type": "markdown",
   "metadata": {
    "deletable": false
   },
   "source": [
    "*Your answer here*"
   ]
  },
  {
   "cell_type": "code",
   "execution_count": null,
   "metadata": {
    "deletable": false,
    "editable": false
   },
   "outputs": [],
   "source": []
  }
 ],
 "metadata": {
  "kernelspec": {
   "display_name": "Python 3",
   "language": "python",
   "name": "python3"
  },
  "language_info": {
   "codemirror_mode": {
    "name": "ipython",
    "version": 3
   },
   "file_extension": ".py",
   "mimetype": "text/x-python",
   "name": "python",
   "nbconvert_exporter": "python",
   "pygments_lexer": "ipython3",
   "version": "3.8.5"
  }
 },
 "nbformat": 4,
 "nbformat_minor": 2
}
